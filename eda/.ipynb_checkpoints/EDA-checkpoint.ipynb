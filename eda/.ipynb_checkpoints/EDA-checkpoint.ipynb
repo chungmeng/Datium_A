{
 "cells": [
  {
   "cell_type": "markdown",
   "id": "65d22a4d",
   "metadata": {},
   "source": [
    "# Exploratory Data Analysis"
   ]
  },
  {
   "cell_type": "code",
   "execution_count": 2,
   "id": "9f340bb3",
   "metadata": {
    "ExecuteTime": {
     "end_time": "2021-12-31T12:40:57.705690Z",
     "start_time": "2021-12-31T12:40:55.541679Z"
    }
   },
   "outputs": [],
   "source": [
    "import pandas as pd\n",
    "import numpy as np\n",
    "import seaborn as sns\n",
    "from scipy import stats\n",
    "import matplotlib.pyplot as plt"
   ]
  },
  {
   "cell_type": "code",
   "execution_count": 45,
   "id": "ee57a3a3",
   "metadata": {
    "ExecuteTime": {
     "end_time": "2021-12-31T13:10:31.748210Z",
     "start_time": "2021-12-31T13:10:31.736491Z"
    }
   },
   "outputs": [],
   "source": [
    "plt.rcParams['figure.figsize']=14,6"
   ]
  },
  {
   "cell_type": "code",
   "execution_count": 3,
   "id": "97114769",
   "metadata": {
    "ExecuteTime": {
     "end_time": "2021-12-31T12:40:58.937301Z",
     "start_time": "2021-12-31T12:40:57.708559Z"
    }
   },
   "outputs": [
    {
     "data": {
      "text/html": [
       "<div>\n",
       "<style scoped>\n",
       "    .dataframe tbody tr th:only-of-type {\n",
       "        vertical-align: middle;\n",
       "    }\n",
       "\n",
       "    .dataframe tbody tr th {\n",
       "        vertical-align: top;\n",
       "    }\n",
       "\n",
       "    .dataframe thead th {\n",
       "        text-align: right;\n",
       "    }\n",
       "</style>\n",
       "<table border=\"1\" class=\"dataframe\">\n",
       "  <thead>\n",
       "    <tr style=\"text-align: right;\">\n",
       "      <th></th>\n",
       "      <th>Make</th>\n",
       "      <th>Model</th>\n",
       "      <th>MakeCode</th>\n",
       "      <th>FamilyCode</th>\n",
       "      <th>YearGroup</th>\n",
       "      <th>MonthGroup</th>\n",
       "      <th>SequenceNum</th>\n",
       "      <th>Description</th>\n",
       "      <th>CurrentRelease</th>\n",
       "      <th>ImportFlag</th>\n",
       "      <th>...</th>\n",
       "      <th>GoodKM</th>\n",
       "      <th>NewPrice</th>\n",
       "      <th>Colour</th>\n",
       "      <th>Branch</th>\n",
       "      <th>SaleCategory</th>\n",
       "      <th>Sold_Date</th>\n",
       "      <th>Compliance_Date</th>\n",
       "      <th>Age_Comp_Months</th>\n",
       "      <th>KM</th>\n",
       "      <th>Sold_Amount</th>\n",
       "    </tr>\n",
       "  </thead>\n",
       "  <tbody>\n",
       "    <tr>\n",
       "      <th>0</th>\n",
       "      <td>Holden</td>\n",
       "      <td>Commodore</td>\n",
       "      <td>HOLD</td>\n",
       "      <td>COMMODO</td>\n",
       "      <td>2008</td>\n",
       "      <td>0</td>\n",
       "      <td>0</td>\n",
       "      <td>VE Omega Sedan 4dr. Auto 4sp 3.6i</td>\n",
       "      <td>F</td>\n",
       "      <td>L</td>\n",
       "      <td>...</td>\n",
       "      <td>140.0</td>\n",
       "      <td>34790.0</td>\n",
       "      <td>White</td>\n",
       "      <td>Perth (WA)</td>\n",
       "      <td>Auction</td>\n",
       "      <td>2015-11-03 00:00:00.000</td>\n",
       "      <td>02/2008</td>\n",
       "      <td>93.0</td>\n",
       "      <td>227878.0</td>\n",
       "      <td>2000.0</td>\n",
       "    </tr>\n",
       "    <tr>\n",
       "      <th>1</th>\n",
       "      <td>Holden</td>\n",
       "      <td>Commodore</td>\n",
       "      <td>HOLD</td>\n",
       "      <td>COMMODO</td>\n",
       "      <td>1993</td>\n",
       "      <td>7</td>\n",
       "      <td>41</td>\n",
       "      <td>VR Executive Wagon 5dr. Auto 4sp 3.8i</td>\n",
       "      <td>F</td>\n",
       "      <td>L</td>\n",
       "      <td>...</td>\n",
       "      <td>360.0</td>\n",
       "      <td>27978.0</td>\n",
       "      <td>Red</td>\n",
       "      <td>Belmore (NSW)</td>\n",
       "      <td>Auction</td>\n",
       "      <td>2000-10-18 00:00:00.000</td>\n",
       "      <td>08/1993</td>\n",
       "      <td>86.0</td>\n",
       "      <td>153091.0</td>\n",
       "      <td>6800.0</td>\n",
       "    </tr>\n",
       "    <tr>\n",
       "      <th>2</th>\n",
       "      <td>Toyota</td>\n",
       "      <td>RAV4</td>\n",
       "      <td>TOYO</td>\n",
       "      <td>RAV4</td>\n",
       "      <td>2012</td>\n",
       "      <td>0</td>\n",
       "      <td>6</td>\n",
       "      <td>ACA33R MY12 CV Wagon 5dr Man 5sp 4x4 2.4i</td>\n",
       "      <td>F</td>\n",
       "      <td>L</td>\n",
       "      <td>...</td>\n",
       "      <td>80.0</td>\n",
       "      <td>31990.0</td>\n",
       "      <td>040 - Glacier White (T)</td>\n",
       "      <td>Sunshine (VIC)</td>\n",
       "      <td>Dealer Only Auction</td>\n",
       "      <td>2014-02-05 00:00:00.000</td>\n",
       "      <td>10/2012</td>\n",
       "      <td>16.0</td>\n",
       "      <td>27374.0</td>\n",
       "      <td>22900.0</td>\n",
       "    </tr>\n",
       "    <tr>\n",
       "      <th>3</th>\n",
       "      <td>Holden</td>\n",
       "      <td>Commodore</td>\n",
       "      <td>HOLD</td>\n",
       "      <td>COMMODO</td>\n",
       "      <td>2007</td>\n",
       "      <td>0</td>\n",
       "      <td>11</td>\n",
       "      <td>VZ@VE MY07 Executive Wagon 5dr. Auto 4sp 3.6i</td>\n",
       "      <td>F</td>\n",
       "      <td>L</td>\n",
       "      <td>...</td>\n",
       "      <td>150.0</td>\n",
       "      <td>35990.0</td>\n",
       "      <td>Quicksilver</td>\n",
       "      <td>Belmore (NSW)</td>\n",
       "      <td>Auction</td>\n",
       "      <td>2011-01-10 00:00:00.000</td>\n",
       "      <td>01/2007</td>\n",
       "      <td>48.0</td>\n",
       "      <td>99452.0</td>\n",
       "      <td>10500.0</td>\n",
       "    </tr>\n",
       "    <tr>\n",
       "      <th>4</th>\n",
       "      <td>Toyota</td>\n",
       "      <td>Tarago</td>\n",
       "      <td>TOYO</td>\n",
       "      <td>TARAGO</td>\n",
       "      <td>2007</td>\n",
       "      <td>0</td>\n",
       "      <td>0</td>\n",
       "      <td>ACR50R GLi Wagon 8st 5dr Spts Auto 4sp 2.4i</td>\n",
       "      <td>F</td>\n",
       "      <td>L</td>\n",
       "      <td>...</td>\n",
       "      <td>150.0</td>\n",
       "      <td>49490.0</td>\n",
       "      <td>Silver</td>\n",
       "      <td>Hobart (TAS)</td>\n",
       "      <td>Special Fixed Price</td>\n",
       "      <td>2009-05-23 00:00:00.000</td>\n",
       "      <td>01/2007</td>\n",
       "      <td>28.0</td>\n",
       "      <td>44355.0</td>\n",
       "      <td>31320.0</td>\n",
       "    </tr>\n",
       "  </tbody>\n",
       "</table>\n",
       "<p>5 rows × 121 columns</p>\n",
       "</div>"
      ],
      "text/plain": [
       "     Make      Model MakeCode FamilyCode  YearGroup  MonthGroup  SequenceNum  \\\n",
       "0  Holden  Commodore     HOLD    COMMODO       2008           0            0   \n",
       "1  Holden  Commodore     HOLD    COMMODO       1993           7           41   \n",
       "2  Toyota       RAV4     TOYO       RAV4       2012           0            6   \n",
       "3  Holden  Commodore     HOLD    COMMODO       2007           0           11   \n",
       "4  Toyota     Tarago     TOYO     TARAGO       2007           0            0   \n",
       "\n",
       "                                     Description CurrentRelease ImportFlag  \\\n",
       "0              VE Omega Sedan 4dr. Auto 4sp 3.6i              F          L   \n",
       "1          VR Executive Wagon 5dr. Auto 4sp 3.8i              F          L   \n",
       "2      ACA33R MY12 CV Wagon 5dr Man 5sp 4x4 2.4i              F          L   \n",
       "3  VZ@VE MY07 Executive Wagon 5dr. Auto 4sp 3.6i              F          L   \n",
       "4    ACR50R GLi Wagon 8st 5dr Spts Auto 4sp 2.4i              F          L   \n",
       "\n",
       "   ... GoodKM NewPrice                   Colour          Branch  \\\n",
       "0  ...  140.0  34790.0                    White      Perth (WA)   \n",
       "1  ...  360.0  27978.0                      Red   Belmore (NSW)   \n",
       "2  ...   80.0  31990.0  040 - Glacier White (T)  Sunshine (VIC)   \n",
       "3  ...  150.0  35990.0              Quicksilver   Belmore (NSW)   \n",
       "4  ...  150.0  49490.0                   Silver    Hobart (TAS)   \n",
       "\n",
       "          SaleCategory                Sold_Date Compliance_Date  \\\n",
       "0              Auction  2015-11-03 00:00:00.000         02/2008   \n",
       "1              Auction  2000-10-18 00:00:00.000         08/1993   \n",
       "2  Dealer Only Auction  2014-02-05 00:00:00.000         10/2012   \n",
       "3              Auction  2011-01-10 00:00:00.000         01/2007   \n",
       "4  Special Fixed Price  2009-05-23 00:00:00.000         01/2007   \n",
       "\n",
       "  Age_Comp_Months        KM Sold_Amount  \n",
       "0            93.0  227878.0      2000.0  \n",
       "1            86.0  153091.0      6800.0  \n",
       "2            16.0   27374.0     22900.0  \n",
       "3            48.0   99452.0     10500.0  \n",
       "4            28.0   44355.0     31320.0  \n",
       "\n",
       "[5 rows x 121 columns]"
      ]
     },
     "execution_count": 3,
     "metadata": {},
     "output_type": "execute_result"
    }
   ],
   "source": [
    "df=pd.read_csv('../datasets/dataset_1.csv')\n",
    "df.head()"
   ]
  },
  {
   "cell_type": "markdown",
   "id": "9ff3c435",
   "metadata": {},
   "source": [
    "## Sold Amount\n",
    "\n",
    "Sold Amount has a mean of \\\\$16723.23 with prices ranging from \\\\$0 - \\\\$317000\n",
    "\n",
    "Surprisingly a total of 734 Vehicles sold at \\\\$0\n",
    "\n",
    "Distribution : Positively Skewed due to Outliers( with mean of \\\\$66157.44; well above the 75th Quartile value of \\\\$20800)"
   ]
  },
  {
   "cell_type": "code",
   "execution_count": 46,
   "id": "a01b59c6",
   "metadata": {
    "ExecuteTime": {
     "end_time": "2021-12-31T13:10:36.765031Z",
     "start_time": "2021-12-31T13:10:35.532332Z"
    }
   },
   "outputs": [
    {
     "name": "stdout",
     "output_type": "stream",
     "text": [
      "count     61883.000000\n",
      "mean      16739.735539\n",
      "std       10461.350772\n",
      "min           0.000000\n",
      "25%       10700.000000\n",
      "50%       15200.000000\n",
      "75%       20800.000000\n",
      "max      317000.000000\n",
      "Name: Sold_Amount, dtype: float64\n",
      "Skewness : 3.674814757084057\n",
      "Total of 734 Vehicles sold for $0\n"
     ]
    },
    {
     "data": {
      "image/png": "[encoded data removed]",
      "text/plain": [
       "<Figure size 864x432 with 1 Axes>"
      ]
     },
     "metadata": {
      "needs_background": "light"
     },
     "output_type": "display_data"
    }
   ],
   "source": [
    "fig,ax = plt.subplots(figsize=(12, 6))\n",
    "sns.histplot(df['Sold_Amount'], ax=ax).set_title('Histogram of Sold_Amount')\n",
    "print(df['Sold_Amount'].describe())\n",
    "print('Skewness :', df['Sold_Amount'].skew())\n",
    "print(f\"Total of {sum(df['Sold_Amount']==0)} Vehicles sold for $0\")\n"
   ]
  },
  {
   "cell_type": "code",
   "execution_count": 195,
   "id": "8f6cc3d4",
   "metadata": {
    "ExecuteTime": {
     "end_time": "2021-12-31T08:25:25.475897Z",
     "start_time": "2021-12-31T08:25:25.330169Z"
    }
   },
   "outputs": [
    {
     "name": "stderr",
     "output_type": "stream",
     "text": [
      "/Users/jerome/.pyenv/versions/3.7.3/lib/python3.7/site-packages/seaborn/_decorators.py:43: FutureWarning: Pass the following variable as a keyword arg: x. From version 0.12, the only valid positional argument will be `data`, and passing other arguments without an explicit keyword will result in an error or misinterpretation.\n",
      "  FutureWarning\n"
     ]
    },
    {
     "data": {
      "text/plain": [
       "<AxesSubplot:xlabel='Sold_Amount'>"
      ]
     },
     "execution_count": 195,
     "metadata": {},
     "output_type": "execute_result"
    },
    {
     "data": {
      "image/png": "[encoded data removed]",
      "text/plain": [
       "<Figure size 864x432 with 1 Axes>"
      ]
     },
     "metadata": {
      "needs_background": "light"
     },
     "output_type": "display_data"
    }
   ],
   "source": [
    "fig,ax = plt.subplots(figsize=(12, 6))\n",
    "sns.boxplot(df['Sold_Amount'], ax=ax)"
   ]
  },
  {
   "cell_type": "code",
   "execution_count": 196,
   "id": "d0d74a5d",
   "metadata": {
    "ExecuteTime": {
     "end_time": "2021-12-31T08:25:25.758246Z",
     "start_time": "2021-12-31T08:25:25.478290Z"
    }
   },
   "outputs": [
    {
     "name": "stdout",
     "output_type": "stream",
     "text": [
      "Mean Value of Outliers : $66157.43716553287\n"
     ]
    },
    {
     "data": {
      "text/plain": [
       "Text(0.5, 1.0, 'Distribution of Outliers - Sold Amount')"
      ]
     },
     "execution_count": 196,
     "metadata": {},
     "output_type": "execute_result"
    },
    {
     "data": {
      "image/png": "[encoded data removed]",
      "text/plain": [
       "<Figure size 864x432 with 1 Axes>"
      ]
     },
     "metadata": {
      "needs_background": "light"
     },
     "output_type": "display_data"
    }
   ],
   "source": [
    "outliers=df['Sold_Amount'][np.abs(stats.zscore(df['Sold_Amount'])) > 3]\n",
    "print(f'Mean Value of Outliers : ${np.mean(outliers)}')\n",
    "sns.histplot(outliers).set_title('Distribution of Outliers - Sold Amount')"
   ]
  },
  {
   "cell_type": "code",
   "execution_count": 47,
   "id": "a089baa9",
   "metadata": {
    "ExecuteTime": {
     "end_time": "2021-12-31T13:10:43.283603Z",
     "start_time": "2021-12-31T13:10:43.068713Z"
    }
   },
   "outputs": [
    {
     "name": "stderr",
     "output_type": "stream",
     "text": [
      "/Users/jerome/.pyenv/versions/3.7.3/lib/python3.7/site-packages/seaborn/_decorators.py:43: FutureWarning: Pass the following variable as a keyword arg: x. From version 0.12, the only valid positional argument will be `data`, and passing other arguments without an explicit keyword will result in an error or misinterpretation.\n",
      "  FutureWarning\n"
     ]
    },
    {
     "data": {
      "text/plain": [
       "Text(0.5, 1.0, 'Top 10 Largest Countries of Origin for Build')"
      ]
     },
     "execution_count": 47,
     "metadata": {},
     "output_type": "execute_result"
    },
    {
     "data": {
      "image/png": "[encoded data removed]",
      "text/plain": [
       "<Figure size 1008x432 with 1 Axes>"
      ]
     },
     "metadata": {
      "needs_background": "light"
     },
     "output_type": "display_data"
    }
   ],
   "source": [
    "\n",
    "sns.countplot(\n",
    "    df['BuildCountryOriginDescription'],\n",
    "    order=df['BuildCountryOriginDescription'].value_counts().iloc[:10].index\n",
    ").set_title('Top 10 Largest Countries of Origin for Build')\n",
    "# plt.xticks(rotation=90)"
   ]
  },
  {
   "cell_type": "code",
   "execution_count": 48,
   "id": "98954176",
   "metadata": {
    "ExecuteTime": {
     "end_time": "2021-12-31T13:10:50.570730Z",
     "start_time": "2021-12-31T13:10:50.297764Z"
    }
   },
   "outputs": [
    {
     "name": "stderr",
     "output_type": "stream",
     "text": [
      "/Users/jerome/.pyenv/versions/3.7.3/lib/python3.7/site-packages/seaborn/_decorators.py:43: FutureWarning: Pass the following variable as a keyword arg: x. From version 0.12, the only valid positional argument will be `data`, and passing other arguments without an explicit keyword will result in an error or misinterpretation.\n",
      "  FutureWarning\n"
     ]
    },
    {
     "data": {
      "text/plain": [
       "Text(0.5, 1.0, 'Top 10 Largest Car Makes')"
      ]
     },
     "execution_count": 48,
     "metadata": {},
     "output_type": "execute_result"
    },
    {
     "data": {
      "image/png": "[encoded data removed]",
      "text/plain": [
       "<Figure size 1008x432 with 1 Axes>"
      ]
     },
     "metadata": {
      "needs_background": "light"
     },
     "output_type": "display_data"
    }
   ],
   "source": [
    "sns.countplot(\n",
    "    df['Make'],\n",
    "    order=df['Make'].value_counts().iloc[:10].index\n",
    ").set_title('Top 10 Largest Car Makes')"
   ]
  },
  {
   "cell_type": "markdown",
   "id": "9bf76987",
   "metadata": {},
   "source": [
    "# Correlation Matrix\n",
    "Sold_Amount correlations:\n",
    "- strong positive : NewPrice, Power, Torque, FuelCapacity\n",
    "- weak positive : ValvesCylinder\n",
    "- strong negative : Age_Comp_Months, KM\n",
    "\n",
    "Other interactions:\n",
    "- ValvesCylinder strong negative correlation to AverageKM. Not sure why?"
   ]
  },
  {
   "cell_type": "code",
   "execution_count": 200,
   "id": "83b4c672",
   "metadata": {
    "ExecuteTime": {
     "end_time": "2021-12-31T08:25:26.877586Z",
     "start_time": "2021-12-31T08:25:26.257072Z"
    }
   },
   "outputs": [
    {
     "data": {
      "text/plain": [
       "<AxesSubplot:>"
      ]
     },
     "execution_count": 200,
     "metadata": {},
     "output_type": "execute_result"
    },
    {
     "data": {
      "image/png": "[encoded data removed]",
      "text/plain": [
       "<Figure size 792x648 with 2 Axes>"
      ]
     },
     "metadata": {
      "needs_background": "light"
     },
     "output_type": "display_data"
    }
   ],
   "source": [
    "num_cols=[\n",
    "    'Sold_Amount','NewPrice','GearNum', 'DoorNum', 'EngineSize', 'Cylinders', 'FuelCapacity', 'GrossCombinationMAss',\n",
    "    'WheelBase', 'Height', 'Length', 'Width', 'KerbWeight', 'Power', 'Torque', 'SeatCapacity','ValvesCylinder',\n",
    "    'AverageKM', 'GoodKM', 'Age_Comp_Months', 'KM',\n",
    "]\n",
    "corr=df[num_cols].corr()\n",
    "# Generate a mask for the upper triangle\n",
    "mask = np.tril(np.ones_like(corr, dtype=bool))\n",
    "\n",
    "# Set up the matplotlib figure\n",
    "f, ax = plt.subplots(figsize=(11, 9))\n",
    "\n",
    "# Generate a custom diverging colormap\n",
    "cmap = sns.diverging_palette(220, 20, as_cmap=True, center='light')\n",
    "\n",
    "# Draw the heatmap with the mask and correct aspect ratio\n",
    "sns.heatmap(corr, mask=mask, cmap=cmap, vmax=.3, center=0,\n",
    "            square=True, linewidths=.5, cbar_kws={\"shrink\": .5})\n",
    "# plt.matshow(df[num_cols].corr())\n",
    "# plt.show()"
   ]
  },
  {
   "cell_type": "markdown",
   "id": "4c776e8d",
   "metadata": {},
   "source": [
    "## Sold Amount vs NewPrice"
   ]
  },
  {
   "cell_type": "code",
   "execution_count": 15,
   "id": "03be4aa9",
   "metadata": {
    "ExecuteTime": {
     "end_time": "2021-12-31T12:48:20.189075Z",
     "start_time": "2021-12-31T12:48:20.165383Z"
    }
   },
   "outputs": [
    {
     "name": "stdout",
     "output_type": "stream",
     "text": [
      "INFO - 44 Vehicles with Higher Sold_Amount than its NewPrice\n",
      "       Surprisingly None are Limited Editions\n"
     ]
    },
    {
     "data": {
      "text/html": [
       "<div>\n",
       "<style scoped>\n",
       "    .dataframe tbody tr th:only-of-type {\n",
       "        vertical-align: middle;\n",
       "    }\n",
       "\n",
       "    .dataframe tbody tr th {\n",
       "        vertical-align: top;\n",
       "    }\n",
       "\n",
       "    .dataframe thead th {\n",
       "        text-align: right;\n",
       "    }\n",
       "</style>\n",
       "<table border=\"1\" class=\"dataframe\">\n",
       "  <thead>\n",
       "    <tr style=\"text-align: right;\">\n",
       "      <th></th>\n",
       "      <th>Sold_Amount</th>\n",
       "      <th>NewPrice</th>\n",
       "      <th>LimitedEdition</th>\n",
       "    </tr>\n",
       "  </thead>\n",
       "  <tbody>\n",
       "    <tr>\n",
       "      <th>3558</th>\n",
       "      <td>68700.0</td>\n",
       "      <td>58265.0</td>\n",
       "      <td>F</td>\n",
       "    </tr>\n",
       "    <tr>\n",
       "      <th>7365</th>\n",
       "      <td>26500.0</td>\n",
       "      <td>26050.0</td>\n",
       "      <td>F</td>\n",
       "    </tr>\n",
       "    <tr>\n",
       "      <th>8970</th>\n",
       "      <td>22000.0</td>\n",
       "      <td>2478.0</td>\n",
       "      <td>F</td>\n",
       "    </tr>\n",
       "    <tr>\n",
       "      <th>10083</th>\n",
       "      <td>29500.0</td>\n",
       "      <td>29190.0</td>\n",
       "      <td>F</td>\n",
       "    </tr>\n",
       "    <tr>\n",
       "      <th>11604</th>\n",
       "      <td>63250.0</td>\n",
       "      <td>63127.0</td>\n",
       "      <td>F</td>\n",
       "    </tr>\n",
       "    <tr>\n",
       "      <th>12174</th>\n",
       "      <td>41495.0</td>\n",
       "      <td>38490.0</td>\n",
       "      <td>F</td>\n",
       "    </tr>\n",
       "    <tr>\n",
       "      <th>13275</th>\n",
       "      <td>52000.0</td>\n",
       "      <td>49990.0</td>\n",
       "      <td>F</td>\n",
       "    </tr>\n",
       "    <tr>\n",
       "      <th>15886</th>\n",
       "      <td>44000.0</td>\n",
       "      <td>39990.0</td>\n",
       "      <td>F</td>\n",
       "    </tr>\n",
       "    <tr>\n",
       "      <th>16285</th>\n",
       "      <td>5500.0</td>\n",
       "      <td>5157.0</td>\n",
       "      <td>F</td>\n",
       "    </tr>\n",
       "    <tr>\n",
       "      <th>16572</th>\n",
       "      <td>47300.0</td>\n",
       "      <td>44990.0</td>\n",
       "      <td>F</td>\n",
       "    </tr>\n",
       "    <tr>\n",
       "      <th>17078</th>\n",
       "      <td>26500.0</td>\n",
       "      <td>26300.0</td>\n",
       "      <td>F</td>\n",
       "    </tr>\n",
       "    <tr>\n",
       "      <th>17263</th>\n",
       "      <td>77500.0</td>\n",
       "      <td>69900.0</td>\n",
       "      <td>F</td>\n",
       "    </tr>\n",
       "    <tr>\n",
       "      <th>17986</th>\n",
       "      <td>43100.0</td>\n",
       "      <td>40390.0</td>\n",
       "      <td>F</td>\n",
       "    </tr>\n",
       "    <tr>\n",
       "      <th>18934</th>\n",
       "      <td>31000.0</td>\n",
       "      <td>29990.0</td>\n",
       "      <td>F</td>\n",
       "    </tr>\n",
       "    <tr>\n",
       "      <th>20751</th>\n",
       "      <td>40000.0</td>\n",
       "      <td>35490.0</td>\n",
       "      <td>F</td>\n",
       "    </tr>\n",
       "    <tr>\n",
       "      <th>22456</th>\n",
       "      <td>73900.0</td>\n",
       "      <td>56480.0</td>\n",
       "      <td>F</td>\n",
       "    </tr>\n",
       "    <tr>\n",
       "      <th>24180</th>\n",
       "      <td>38000.0</td>\n",
       "      <td>35490.0</td>\n",
       "      <td>F</td>\n",
       "    </tr>\n",
       "    <tr>\n",
       "      <th>25087</th>\n",
       "      <td>72000.0</td>\n",
       "      <td>66490.0</td>\n",
       "      <td>F</td>\n",
       "    </tr>\n",
       "    <tr>\n",
       "      <th>27862</th>\n",
       "      <td>61500.0</td>\n",
       "      <td>59875.0</td>\n",
       "      <td>F</td>\n",
       "    </tr>\n",
       "    <tr>\n",
       "      <th>28064</th>\n",
       "      <td>51500.0</td>\n",
       "      <td>49900.0</td>\n",
       "      <td>F</td>\n",
       "    </tr>\n",
       "    <tr>\n",
       "      <th>32367</th>\n",
       "      <td>62000.0</td>\n",
       "      <td>58990.0</td>\n",
       "      <td>F</td>\n",
       "    </tr>\n",
       "    <tr>\n",
       "      <th>32507</th>\n",
       "      <td>49000.0</td>\n",
       "      <td>48490.0</td>\n",
       "      <td>F</td>\n",
       "    </tr>\n",
       "    <tr>\n",
       "      <th>33163</th>\n",
       "      <td>165450.0</td>\n",
       "      <td>9560.0</td>\n",
       "      <td>F</td>\n",
       "    </tr>\n",
       "    <tr>\n",
       "      <th>33842</th>\n",
       "      <td>34200.0</td>\n",
       "      <td>32990.0</td>\n",
       "      <td>F</td>\n",
       "    </tr>\n",
       "    <tr>\n",
       "      <th>34192</th>\n",
       "      <td>65750.0</td>\n",
       "      <td>62790.0</td>\n",
       "      <td>F</td>\n",
       "    </tr>\n",
       "    <tr>\n",
       "      <th>35682</th>\n",
       "      <td>26400.0</td>\n",
       "      <td>26390.0</td>\n",
       "      <td>F</td>\n",
       "    </tr>\n",
       "    <tr>\n",
       "      <th>36441</th>\n",
       "      <td>43600.0</td>\n",
       "      <td>42030.0</td>\n",
       "      <td>F</td>\n",
       "    </tr>\n",
       "    <tr>\n",
       "      <th>38479</th>\n",
       "      <td>25000.0</td>\n",
       "      <td>23790.0</td>\n",
       "      <td>F</td>\n",
       "    </tr>\n",
       "    <tr>\n",
       "      <th>38632</th>\n",
       "      <td>52500.0</td>\n",
       "      <td>48490.0</td>\n",
       "      <td>F</td>\n",
       "    </tr>\n",
       "    <tr>\n",
       "      <th>38821</th>\n",
       "      <td>41400.0</td>\n",
       "      <td>37990.0</td>\n",
       "      <td>F</td>\n",
       "    </tr>\n",
       "    <tr>\n",
       "      <th>38936</th>\n",
       "      <td>53250.0</td>\n",
       "      <td>35395.0</td>\n",
       "      <td>F</td>\n",
       "    </tr>\n",
       "    <tr>\n",
       "      <th>40108</th>\n",
       "      <td>25000.0</td>\n",
       "      <td>24525.0</td>\n",
       "      <td>F</td>\n",
       "    </tr>\n",
       "    <tr>\n",
       "      <th>40840</th>\n",
       "      <td>75500.0</td>\n",
       "      <td>65990.0</td>\n",
       "      <td>F</td>\n",
       "    </tr>\n",
       "    <tr>\n",
       "      <th>41092</th>\n",
       "      <td>54700.0</td>\n",
       "      <td>48440.0</td>\n",
       "      <td>F</td>\n",
       "    </tr>\n",
       "    <tr>\n",
       "      <th>41832</th>\n",
       "      <td>33400.0</td>\n",
       "      <td>30100.0</td>\n",
       "      <td>F</td>\n",
       "    </tr>\n",
       "    <tr>\n",
       "      <th>43469</th>\n",
       "      <td>19400.0</td>\n",
       "      <td>17990.0</td>\n",
       "      <td>F</td>\n",
       "    </tr>\n",
       "    <tr>\n",
       "      <th>45047</th>\n",
       "      <td>65900.0</td>\n",
       "      <td>59980.0</td>\n",
       "      <td>F</td>\n",
       "    </tr>\n",
       "    <tr>\n",
       "      <th>46164</th>\n",
       "      <td>70000.0</td>\n",
       "      <td>67990.0</td>\n",
       "      <td>F</td>\n",
       "    </tr>\n",
       "    <tr>\n",
       "      <th>48668</th>\n",
       "      <td>35750.0</td>\n",
       "      <td>35490.0</td>\n",
       "      <td>F</td>\n",
       "    </tr>\n",
       "    <tr>\n",
       "      <th>50054</th>\n",
       "      <td>17000.0</td>\n",
       "      <td>16399.0</td>\n",
       "      <td>F</td>\n",
       "    </tr>\n",
       "    <tr>\n",
       "      <th>54468</th>\n",
       "      <td>73000.0</td>\n",
       "      <td>66490.0</td>\n",
       "      <td>F</td>\n",
       "    </tr>\n",
       "    <tr>\n",
       "      <th>54874</th>\n",
       "      <td>21250.0</td>\n",
       "      <td>18490.0</td>\n",
       "      <td>F</td>\n",
       "    </tr>\n",
       "    <tr>\n",
       "      <th>57461</th>\n",
       "      <td>65000.0</td>\n",
       "      <td>59990.0</td>\n",
       "      <td>F</td>\n",
       "    </tr>\n",
       "    <tr>\n",
       "      <th>60568</th>\n",
       "      <td>35750.0</td>\n",
       "      <td>35290.0</td>\n",
       "      <td>F</td>\n",
       "    </tr>\n",
       "  </tbody>\n",
       "</table>\n",
       "</div>"
      ],
      "text/plain": [
       "       Sold_Amount  NewPrice LimitedEdition\n",
       "3558       68700.0   58265.0              F\n",
       "7365       26500.0   26050.0              F\n",
       "8970       22000.0    2478.0              F\n",
       "10083      29500.0   29190.0              F\n",
       "11604      63250.0   63127.0              F\n",
       "12174      41495.0   38490.0              F\n",
       "13275      52000.0   49990.0              F\n",
       "15886      44000.0   39990.0              F\n",
       "16285       5500.0    5157.0              F\n",
       "16572      47300.0   44990.0              F\n",
       "17078      26500.0   26300.0              F\n",
       "17263      77500.0   69900.0              F\n",
       "17986      43100.0   40390.0              F\n",
       "18934      31000.0   29990.0              F\n",
       "20751      40000.0   35490.0              F\n",
       "22456      73900.0   56480.0              F\n",
       "24180      38000.0   35490.0              F\n",
       "25087      72000.0   66490.0              F\n",
       "27862      61500.0   59875.0              F\n",
       "28064      51500.0   49900.0              F\n",
       "32367      62000.0   58990.0              F\n",
       "32507      49000.0   48490.0              F\n",
       "33163     165450.0    9560.0              F\n",
       "33842      34200.0   32990.0              F\n",
       "34192      65750.0   62790.0              F\n",
       "35682      26400.0   26390.0              F\n",
       "36441      43600.0   42030.0              F\n",
       "38479      25000.0   23790.0              F\n",
       "38632      52500.0   48490.0              F\n",
       "38821      41400.0   37990.0              F\n",
       "38936      53250.0   35395.0              F\n",
       "40108      25000.0   24525.0              F\n",
       "40840      75500.0   65990.0              F\n",
       "41092      54700.0   48440.0              F\n",
       "41832      33400.0   30100.0              F\n",
       "43469      19400.0   17990.0              F\n",
       "45047      65900.0   59980.0              F\n",
       "46164      70000.0   67990.0              F\n",
       "48668      35750.0   35490.0              F\n",
       "50054      17000.0   16399.0              F\n",
       "54468      73000.0   66490.0              F\n",
       "54874      21250.0   18490.0              F\n",
       "57461      65000.0   59990.0              F\n",
       "60568      35750.0   35290.0              F"
      ]
     },
     "execution_count": 15,
     "metadata": {},
     "output_type": "execute_result"
    }
   ],
   "source": [
    "df_higher_sold_amount=df[df['Sold_Amount']>df['NewPrice']][['Sold_Amount', 'NewPrice','LimitedEdition']]\n",
    "print(f'INFO - {len(df_higher_sold_amount)} Vehicles with Higher Sold_Amount than its NewPrice')\n",
    "print('       Surprisingly None are Limited Editions')\n",
    "df_higher_sold_amount"
   ]
  },
  {
   "cell_type": "markdown",
   "id": "d906208c",
   "metadata": {},
   "source": [
    "# View General Vehicle Depreciation Trend"
   ]
  },
  {
   "cell_type": "code",
   "execution_count": 16,
   "id": "30a178a8",
   "metadata": {
    "ExecuteTime": {
     "end_time": "2021-12-31T12:51:02.492035Z",
     "start_time": "2021-12-31T12:51:02.327260Z"
    }
   },
   "outputs": [],
   "source": [
    "# Filter up to 10+ years only\n",
    "# Filter out Sold Amount > NewPrice cases\n",
    "df=df[(df['Age_Comp_Months']>0) & (df['Age_Comp_Months']<200)]\n",
    "df=df[(df['Sold_Amount']<df['NewPrice'])]"
   ]
  },
  {
   "cell_type": "code",
   "execution_count": 17,
   "id": "6eef68a8",
   "metadata": {
    "ExecuteTime": {
     "end_time": "2021-12-31T12:51:08.795549Z",
     "start_time": "2021-12-31T12:51:08.786614Z"
    }
   },
   "outputs": [],
   "source": [
    "df['DeltaPricePct']=(df['Sold_Amount']-df['NewPrice'])/df['NewPrice']*100\n",
    "df['DeltaPriceAbs']=df['Sold_Amount']-df['NewPrice']"
   ]
  },
  {
   "cell_type": "code",
   "execution_count": 18,
   "id": "4701a946",
   "metadata": {
    "ExecuteTime": {
     "end_time": "2021-12-31T12:51:11.321805Z",
     "start_time": "2021-12-31T12:51:11.144970Z"
    }
   },
   "outputs": [],
   "source": [
    "df_delta_abs_month=df.groupby('Age_Comp_Months').mean('DeltaPriceAbs')['DeltaPriceAbs']\n",
    "df_delta_pct_month=df.groupby('Age_Comp_Months').mean('DeltaPricePct')['DeltaPricePct']"
   ]
  },
  {
   "cell_type": "code",
   "execution_count": 54,
   "id": "c5e5d954",
   "metadata": {
    "ExecuteTime": {
     "end_time": "2021-12-31T13:24:09.138643Z",
     "start_time": "2021-12-31T13:24:08.944674Z"
    }
   },
   "outputs": [
    {
     "name": "stdout",
     "output_type": "stream",
     "text": [
      "INFO - Generally Cars lose 20% of their retail value when driven off the lot\n",
      "       and 80% of their value around the 10 year mark\n"
     ]
    },
    {
     "data": {
      "image/png": "[encoded data removed]",
      "text/plain": [
       "<Figure size 1008x432 with 1 Axes>"
      ]
     },
     "metadata": {
      "needs_background": "light"
     },
     "output_type": "display_data"
    }
   ],
   "source": [
    "title='Average Percentage Value Depreciation with Compliance Age'\n",
    "sns.scatterplot(x=df_delta_pct_month.index, y=df_delta_pct_month.values).set_title(title)\n",
    "print('INFO - Generally Cars lose 20% of their retail value when driven off the lot')\n",
    "print('       and 80% of their value around the 10 year mark')"
   ]
  },
  {
   "cell_type": "code",
   "execution_count": 23,
   "id": "3fac59a8",
   "metadata": {
    "ExecuteTime": {
     "end_time": "2021-12-31T12:53:04.929397Z",
     "start_time": "2021-12-31T12:53:04.750417Z"
    }
   },
   "outputs": [
    {
     "data": {
      "text/plain": [
       "<AxesSubplot:xlabel='Age_Comp_Months'>"
      ]
     },
     "execution_count": 23,
     "metadata": {},
     "output_type": "execute_result"
    },
    {
     "data": {
      "image/png": "[encoded data removed]",
      "text/plain": [
       "<Figure size 864x432 with 1 Axes>"
      ]
     },
     "metadata": {
      "needs_background": "light"
     },
     "output_type": "display_data"
    }
   ],
   "source": [
    "title='Average Absolute Value Depreciation with Compliance Age'\n",
    "sns.scatterplot(x=df_delta_abs_month.index, y=df_delta_abs_month.values)"
   ]
  },
  {
   "cell_type": "markdown",
   "id": "6ac30756",
   "metadata": {},
   "source": [
    "## Let's Compare Some Makes"
   ]
  },
  {
   "cell_type": "code",
   "execution_count": 24,
   "id": "417d7605",
   "metadata": {
    "ExecuteTime": {
     "end_time": "2021-12-31T12:53:35.163444Z",
     "start_time": "2021-12-31T12:53:35.028024Z"
    }
   },
   "outputs": [],
   "source": [
    "select_makes=['Holden','Mazda','Toyota', 'Ford','Volkswagen','Mercedes-Benz']\n",
    "plot=df[df['Make'].isin(select_makes)].groupby(['Age_Comp_Months','Make']).mean('DeltaPricePct')['DeltaPricePct']"
   ]
  },
  {
   "cell_type": "code",
   "execution_count": 286,
   "id": "c74204fe",
   "metadata": {
    "ExecuteTime": {
     "end_time": "2021-12-31T08:50:26.148124Z",
     "start_time": "2021-12-31T08:50:26.144952Z"
    }
   },
   "outputs": [],
   "source": [
    "# sns.lineplot(x=plot.index, y=plot.values)\n",
    "# df['Make'].value_counts()"
   ]
  },
  {
   "cell_type": "code",
   "execution_count": 25,
   "id": "6a608f5e",
   "metadata": {
    "ExecuteTime": {
     "end_time": "2021-12-31T12:53:45.501572Z",
     "start_time": "2021-12-31T12:53:45.490539Z"
    }
   },
   "outputs": [],
   "source": [
    "df_make_delta=pd.DataFrame()\n",
    "df_make_delta['Make'] = plot.index.droplevel(0)\n",
    "df_make_delta['Months'] = plot.index.droplevel(1)\n",
    "df_make_delta['DeltaPct'] = plot.values"
   ]
  },
  {
   "cell_type": "code",
   "execution_count": 26,
   "id": "b422b92f",
   "metadata": {
    "ExecuteTime": {
     "end_time": "2021-12-31T12:53:45.969453Z",
     "start_time": "2021-12-31T12:53:45.956970Z"
    }
   },
   "outputs": [],
   "source": [
    "plot['Delta']=plot.values"
   ]
  },
  {
   "cell_type": "code",
   "execution_count": 27,
   "id": "ca4da3d1",
   "metadata": {
    "ExecuteTime": {
     "end_time": "2021-12-31T12:53:46.316845Z",
     "start_time": "2021-12-31T12:53:46.304621Z"
    }
   },
   "outputs": [],
   "source": [
    "df_make_delta=df_make_delta.pivot(index='Months', columns='Make', values='DeltaPct')"
   ]
  },
  {
   "cell_type": "code",
   "execution_count": 28,
   "id": "69719f40",
   "metadata": {
    "ExecuteTime": {
     "end_time": "2021-12-31T12:53:46.755107Z",
     "start_time": "2021-12-31T12:53:46.738513Z"
    }
   },
   "outputs": [
    {
     "data": {
      "text/html": [
       "<div>\n",
       "<style scoped>\n",
       "    .dataframe tbody tr th:only-of-type {\n",
       "        vertical-align: middle;\n",
       "    }\n",
       "\n",
       "    .dataframe tbody tr th {\n",
       "        vertical-align: top;\n",
       "    }\n",
       "\n",
       "    .dataframe thead th {\n",
       "        text-align: right;\n",
       "    }\n",
       "</style>\n",
       "<table border=\"1\" class=\"dataframe\">\n",
       "  <thead>\n",
       "    <tr style=\"text-align: right;\">\n",
       "      <th>Make</th>\n",
       "      <th>Ford</th>\n",
       "      <th>Holden</th>\n",
       "      <th>Mazda</th>\n",
       "      <th>Mercedes-Benz</th>\n",
       "      <th>Toyota</th>\n",
       "      <th>Volkswagen</th>\n",
       "    </tr>\n",
       "    <tr>\n",
       "      <th>Months</th>\n",
       "      <th></th>\n",
       "      <th></th>\n",
       "      <th></th>\n",
       "      <th></th>\n",
       "      <th></th>\n",
       "      <th></th>\n",
       "    </tr>\n",
       "  </thead>\n",
       "  <tbody>\n",
       "    <tr>\n",
       "      <th>1.0</th>\n",
       "      <td>NaN</td>\n",
       "      <td>-39.314413</td>\n",
       "      <td>-17.226016</td>\n",
       "      <td>NaN</td>\n",
       "      <td>NaN</td>\n",
       "      <td>-17.854554</td>\n",
       "    </tr>\n",
       "    <tr>\n",
       "      <th>2.0</th>\n",
       "      <td>NaN</td>\n",
       "      <td>NaN</td>\n",
       "      <td>NaN</td>\n",
       "      <td>NaN</td>\n",
       "      <td>-23.652653</td>\n",
       "      <td>-3.204990</td>\n",
       "    </tr>\n",
       "    <tr>\n",
       "      <th>3.0</th>\n",
       "      <td>-32.639314</td>\n",
       "      <td>-18.942476</td>\n",
       "      <td>-27.085952</td>\n",
       "      <td>NaN</td>\n",
       "      <td>-19.937460</td>\n",
       "      <td>-16.847433</td>\n",
       "    </tr>\n",
       "    <tr>\n",
       "      <th>4.0</th>\n",
       "      <td>-23.905371</td>\n",
       "      <td>-16.292252</td>\n",
       "      <td>-12.012857</td>\n",
       "      <td>NaN</td>\n",
       "      <td>-24.253252</td>\n",
       "      <td>NaN</td>\n",
       "    </tr>\n",
       "    <tr>\n",
       "      <th>5.0</th>\n",
       "      <td>-23.369638</td>\n",
       "      <td>-23.431169</td>\n",
       "      <td>-17.661658</td>\n",
       "      <td>NaN</td>\n",
       "      <td>-22.968222</td>\n",
       "      <td>-11.701435</td>\n",
       "    </tr>\n",
       "    <tr>\n",
       "      <th>...</th>\n",
       "      <td>...</td>\n",
       "      <td>...</td>\n",
       "      <td>...</td>\n",
       "      <td>...</td>\n",
       "      <td>...</td>\n",
       "      <td>...</td>\n",
       "    </tr>\n",
       "    <tr>\n",
       "      <th>195.0</th>\n",
       "      <td>NaN</td>\n",
       "      <td>-97.139354</td>\n",
       "      <td>NaN</td>\n",
       "      <td>NaN</td>\n",
       "      <td>-86.043924</td>\n",
       "      <td>NaN</td>\n",
       "    </tr>\n",
       "    <tr>\n",
       "      <th>196.0</th>\n",
       "      <td>-97.286822</td>\n",
       "      <td>NaN</td>\n",
       "      <td>-80.646219</td>\n",
       "      <td>NaN</td>\n",
       "      <td>-96.541815</td>\n",
       "      <td>NaN</td>\n",
       "    </tr>\n",
       "    <tr>\n",
       "      <th>197.0</th>\n",
       "      <td>-93.927986</td>\n",
       "      <td>NaN</td>\n",
       "      <td>NaN</td>\n",
       "      <td>-98.963731</td>\n",
       "      <td>-98.838897</td>\n",
       "      <td>NaN</td>\n",
       "    </tr>\n",
       "    <tr>\n",
       "      <th>198.0</th>\n",
       "      <td>-97.259953</td>\n",
       "      <td>-90.714622</td>\n",
       "      <td>NaN</td>\n",
       "      <td>NaN</td>\n",
       "      <td>-89.403332</td>\n",
       "      <td>NaN</td>\n",
       "    </tr>\n",
       "    <tr>\n",
       "      <th>199.0</th>\n",
       "      <td>-92.643266</td>\n",
       "      <td>-99.311058</td>\n",
       "      <td>-90.345048</td>\n",
       "      <td>NaN</td>\n",
       "      <td>-92.525570</td>\n",
       "      <td>NaN</td>\n",
       "    </tr>\n",
       "  </tbody>\n",
       "</table>\n",
       "<p>199 rows × 6 columns</p>\n",
       "</div>"
      ],
      "text/plain": [
       "Make         Ford     Holden      Mazda  Mercedes-Benz     Toyota  Volkswagen\n",
       "Months                                                                       \n",
       "1.0           NaN -39.314413 -17.226016            NaN        NaN  -17.854554\n",
       "2.0           NaN        NaN        NaN            NaN -23.652653   -3.204990\n",
       "3.0    -32.639314 -18.942476 -27.085952            NaN -19.937460  -16.847433\n",
       "4.0    -23.905371 -16.292252 -12.012857            NaN -24.253252         NaN\n",
       "5.0    -23.369638 -23.431169 -17.661658            NaN -22.968222  -11.701435\n",
       "...           ...        ...        ...            ...        ...         ...\n",
       "195.0         NaN -97.139354        NaN            NaN -86.043924         NaN\n",
       "196.0  -97.286822        NaN -80.646219            NaN -96.541815         NaN\n",
       "197.0  -93.927986        NaN        NaN     -98.963731 -98.838897         NaN\n",
       "198.0  -97.259953 -90.714622        NaN            NaN -89.403332         NaN\n",
       "199.0  -92.643266 -99.311058 -90.345048            NaN -92.525570         NaN\n",
       "\n",
       "[199 rows x 6 columns]"
      ]
     },
     "execution_count": 28,
     "metadata": {},
     "output_type": "execute_result"
    }
   ],
   "source": [
    "df_make_delta"
   ]
  },
  {
   "cell_type": "code",
   "execution_count": 53,
   "id": "6f56f865",
   "metadata": {
    "ExecuteTime": {
     "end_time": "2021-12-31T13:20:39.407229Z",
     "start_time": "2021-12-31T13:20:39.150332Z"
    }
   },
   "outputs": [
    {
     "name": "stdout",
     "output_type": "stream",
     "text": [
      "INFO - Fords & Holdens consistently sees most depreciation over the months\n",
      "INFO - Toyotas hold their value best especially beyond the 4th year mark\n"
     ]
    },
    {
     "data": {
      "image/png": "[encoded data removed]",
      "text/plain": [
       "<Figure size 864x432 with 1 Axes>"
      ]
     },
     "metadata": {
      "needs_background": "light"
     },
     "output_type": "display_data"
    }
   ],
   "source": [
    "title='Average Percentage Depreciation against Compliance Age in Months'\n",
    "df_make_delta.interpolate(method='linear').rolling(window=7).mean().plot(figsize=(12, 6)).set_title(title)\n",
    "print('INFO - Fords & Holdens consistently sees most depreciation over the months')\n",
    "print('INFO - Toyotas hold their value best especially beyond the 4th year mark')"
   ]
  },
  {
   "cell_type": "code",
   "execution_count": 52,
   "id": "368b9d8c",
   "metadata": {
    "ExecuteTime": {
     "end_time": "2021-12-31T13:13:18.148368Z",
     "start_time": "2021-12-31T13:13:18.083801Z"
    }
   },
   "outputs": [
    {
     "name": "stdout",
     "output_type": "stream",
     "text": [
      "Make\n",
      "Ferrari          317000.000000\n",
      "Aston Martin     202333.333333\n",
      "Bentley          192250.000000\n",
      "Lamborghini      155000.000000\n",
      "Lotus            115000.000000\n",
      "Maserati          83650.000000\n",
      "Porsche           65652.727273\n",
      "Lexus             46112.174000\n",
      "Infiniti          40457.500000\n",
      "Hummer            35111.111111\n",
      "Mercedes-Benz     30067.665234\n",
      "Land Rover        29543.958471\n",
      "Audi              28694.605312\n",
      "Jaguar            24790.850000\n",
      "SKODA             21744.687500\n",
      "Volvo             21080.422680\n",
      "Isuzu             20067.010342\n",
      "Jeep              19187.456562\n",
      "Toyota            19160.592157\n",
      "Subaru            18388.661772\n",
      "Name: Sold_Amount, dtype: float64\n",
      "INFO - Unsurprisingly Luxury car makes top the list of Average Sold Amount\n"
     ]
    }
   ],
   "source": [
    "print(df.groupby('Make').mean('Sold_Amount')['Sold_Amount'].sort_values(ascending=False)[:20])\n",
    "print('INFO - Unsurprisingly Luxury car makes top the list of Average Sold Amount')"
   ]
  },
  {
   "cell_type": "code",
   "execution_count": null,
   "id": "9626e4ec",
   "metadata": {},
   "outputs": [],
   "source": []
  }
 ],
 "metadata": {
  "kernelspec": {
   "display_name": "Python 3 (ipykernel)",
   "language": "python",
   "name": "python3"
  },
  "language_info": {
   "codemirror_mode": {
    "name": "ipython",
    "version": 3
   },
   "file_extension": ".py",
   "mimetype": "text/x-python",
   "name": "python",
   "nbconvert_exporter": "python",
   "pygments_lexer": "ipython3",
   "version": "3.7.3"
  }
 },
 "nbformat": 4,
 "nbformat_minor": 5
}
