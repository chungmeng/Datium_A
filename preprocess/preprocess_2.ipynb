{
 "cells": [
  {
   "cell_type": "code",
   "execution_count": 77,
   "id": "fec602a1",
   "metadata": {
    "ExecuteTime": {
     "end_time": "2021-12-31T14:06:31.585218Z",
     "start_time": "2021-12-31T14:06:31.580588Z"
    }
   },
   "outputs": [],
   "source": [
    "import pandas as pd\n",
    "import numpy as np\n",
    "from datetime import datetime"
   ]
  },
  {
   "cell_type": "code",
   "execution_count": 78,
   "id": "22373765",
   "metadata": {
    "ExecuteTime": {
     "end_time": "2021-12-31T14:06:31.596693Z",
     "start_time": "2021-12-31T14:06:31.591858Z"
    }
   },
   "outputs": [],
   "source": [
    "pd.set_option(\"display.max_columns\", None)"
   ]
  },
  {
   "cell_type": "code",
   "execution_count": 79,
   "id": "3363fb21",
   "metadata": {
    "ExecuteTime": {
     "end_time": "2021-12-31T14:06:31.606256Z",
     "start_time": "2021-12-31T14:06:31.599684Z"
    }
   },
   "outputs": [],
   "source": [
    "def remove_null_rows(df, col):\n",
    "    target_nulls = df[col].isna()\n",
    "    if target_nulls.sum():\n",
    "        print(f'WARNING - Found {target_nulls.sum()} Null Values in : {col}. Will drop rows')\n",
    "        df = df[~target_nulls]\n",
    "        nrows, ncols = df.shape\n",
    "        print(f'INFO - Dataset contains {nrows} rows, {ncols} columns')   \n",
    "    return df"
   ]
  },
  {
   "cell_type": "code",
   "execution_count": 80,
   "id": "d24eeb59",
   "metadata": {
    "ExecuteTime": {
     "end_time": "2021-12-31T14:06:32.711460Z",
     "start_time": "2021-12-31T14:06:31.611367Z"
    }
   },
   "outputs": [
    {
     "name": "stdout",
     "output_type": "stream",
     "text": [
      "INFO - Load Dataset from Preprocess 1\n"
     ]
    },
    {
     "data": {
      "text/html": [
       "<div>\n",
       "<style scoped>\n",
       "    .dataframe tbody tr th:only-of-type {\n",
       "        vertical-align: middle;\n",
       "    }\n",
       "\n",
       "    .dataframe tbody tr th {\n",
       "        vertical-align: top;\n",
       "    }\n",
       "\n",
       "    .dataframe thead th {\n",
       "        text-align: right;\n",
       "    }\n",
       "</style>\n",
       "<table border=\"1\" class=\"dataframe\">\n",
       "  <thead>\n",
       "    <tr style=\"text-align: right;\">\n",
       "      <th></th>\n",
       "      <th>Make</th>\n",
       "      <th>Model</th>\n",
       "      <th>MakeCode</th>\n",
       "      <th>FamilyCode</th>\n",
       "      <th>YearGroup</th>\n",
       "      <th>MonthGroup</th>\n",
       "      <th>SequenceNum</th>\n",
       "      <th>Description</th>\n",
       "      <th>CurrentRelease</th>\n",
       "      <th>ImportFlag</th>\n",
       "      <th>LimitedEdition</th>\n",
       "      <th>Series</th>\n",
       "      <th>SeriesModelYear</th>\n",
       "      <th>BadgeDescription</th>\n",
       "      <th>BadgeSecondaryDescription</th>\n",
       "      <th>BodyStyleDescription</th>\n",
       "      <th>BodyConfigDescription</th>\n",
       "      <th>WheelBaseConfig</th>\n",
       "      <th>Roofline</th>\n",
       "      <th>ExtraIdentification</th>\n",
       "      <th>DriveDescription</th>\n",
       "      <th>DriveCode</th>\n",
       "      <th>GearTypeDescription</th>\n",
       "      <th>GearLocationDescription</th>\n",
       "      <th>GearNum</th>\n",
       "      <th>DoorNum</th>\n",
       "      <th>EngineSize</th>\n",
       "      <th>Cylinders</th>\n",
       "      <th>FuelTypeDescription</th>\n",
       "      <th>InductionDescription</th>\n",
       "      <th>OptionCategory</th>\n",
       "      <th>CamDescription</th>\n",
       "      <th>EngineTypeDescription</th>\n",
       "      <th>FuelCapacity</th>\n",
       "      <th>FuelDeliveryDescription</th>\n",
       "      <th>MethodOfDeliveryDescription</th>\n",
       "      <th>GrossCombinationMAss</th>\n",
       "      <th>GrossVehicleMass</th>\n",
       "      <th>VIN</th>\n",
       "      <th>WheelBase</th>\n",
       "      <th>Height</th>\n",
       "      <th>Length</th>\n",
       "      <th>Width</th>\n",
       "      <th>KerbWeight</th>\n",
       "      <th>TareMass</th>\n",
       "      <th>PayLoad</th>\n",
       "      <th>Power</th>\n",
       "      <th>PowerRPMFrom</th>\n",
       "      <th>PowerRPMTo</th>\n",
       "      <th>Torque</th>\n",
       "      <th>TorqueRPMFrom</th>\n",
       "      <th>TorqueRPMTo</th>\n",
       "      <th>RonRating</th>\n",
       "      <th>SeatCapacity</th>\n",
       "      <th>ModelCode</th>\n",
       "      <th>BuildCountryOriginDescription</th>\n",
       "      <th>ValvesCylinder</th>\n",
       "      <th>EngineCycleDescription</th>\n",
       "      <th>EngineConfigurationDescription</th>\n",
       "      <th>EngineLocation</th>\n",
       "      <th>EngineNum</th>\n",
       "      <th>Acceleration</th>\n",
       "      <th>FrontTyreSize</th>\n",
       "      <th>RearTyreSize</th>\n",
       "      <th>FrontRimDesc</th>\n",
       "      <th>RearRimDesc</th>\n",
       "      <th>TowingBrakes</th>\n",
       "      <th>TowingNoBrakes</th>\n",
       "      <th>WarrantyCustAssist</th>\n",
       "      <th>FreeScheduledService</th>\n",
       "      <th>WarrantyYears</th>\n",
       "      <th>WarrantyKM</th>\n",
       "      <th>FirstServiceKM</th>\n",
       "      <th>FirstServiceMonths</th>\n",
       "      <th>RegServiceMonths</th>\n",
       "      <th>AltEngEngineType</th>\n",
       "      <th>AltEngBatteryType</th>\n",
       "      <th>AltEngCurrentType</th>\n",
       "      <th>AltEngAmpHours</th>\n",
       "      <th>AltEngVolts</th>\n",
       "      <th>AltEngChargingMethod</th>\n",
       "      <th>AltEngPower</th>\n",
       "      <th>AltEngPowerFrom</th>\n",
       "      <th>AltEngPowerTo</th>\n",
       "      <th>AltEngTorque</th>\n",
       "      <th>AltEngTorqueFrom</th>\n",
       "      <th>AltEngTorqueTo</th>\n",
       "      <th>AltEngDrive</th>\n",
       "      <th>NormalChargeMins</th>\n",
       "      <th>QuickChargeMins</th>\n",
       "      <th>QuickChargeVoltage</th>\n",
       "      <th>KMRangeElectricEng</th>\n",
       "      <th>ElectricEngineLocation</th>\n",
       "      <th>TopSpeedElectricEng</th>\n",
       "      <th>GreenhouseRating</th>\n",
       "      <th>AirpollutionRating</th>\n",
       "      <th>OverallGreenStarRating</th>\n",
       "      <th>CO2Combined</th>\n",
       "      <th>CO2Urban</th>\n",
       "      <th>CO2ExtraUrban</th>\n",
       "      <th>FuelUrban</th>\n",
       "      <th>FuelExtraurban</th>\n",
       "      <th>FuelCombined</th>\n",
       "      <th>EmissionStandard</th>\n",
       "      <th>MaxEthanolBlend</th>\n",
       "      <th>AncapRating</th>\n",
       "      <th>VFactsClass</th>\n",
       "      <th>VFactsSegment</th>\n",
       "      <th>VFactsPrice</th>\n",
       "      <th>IsPPlateApproved</th>\n",
       "      <th>AverageKM</th>\n",
       "      <th>GoodKM</th>\n",
       "      <th>NewPrice</th>\n",
       "      <th>Colour</th>\n",
       "      <th>Branch</th>\n",
       "      <th>SaleCategory</th>\n",
       "      <th>Sold_Date</th>\n",
       "      <th>Compliance_Date</th>\n",
       "      <th>Age_Comp_Months</th>\n",
       "      <th>KM</th>\n",
       "      <th>Sold_Amount</th>\n",
       "    </tr>\n",
       "  </thead>\n",
       "  <tbody>\n",
       "    <tr>\n",
       "      <th>0</th>\n",
       "      <td>Holden</td>\n",
       "      <td>Commodore</td>\n",
       "      <td>HOLD</td>\n",
       "      <td>COMMODO</td>\n",
       "      <td>2008</td>\n",
       "      <td>0</td>\n",
       "      <td>0</td>\n",
       "      <td>VE Omega Sedan 4dr. Auto 4sp 3.6i</td>\n",
       "      <td>F</td>\n",
       "      <td>L</td>\n",
       "      <td>F</td>\n",
       "      <td>VE</td>\n",
       "      <td>NaN</td>\n",
       "      <td>Omega</td>\n",
       "      <td>NaN</td>\n",
       "      <td>Sedan</td>\n",
       "      <td>NaN</td>\n",
       "      <td>NaN</td>\n",
       "      <td>NaN</td>\n",
       "      <td>NaN</td>\n",
       "      <td>Rear Wheel Drive</td>\n",
       "      <td>RWD</td>\n",
       "      <td>Automatic</td>\n",
       "      <td>Floor</td>\n",
       "      <td>4.0</td>\n",
       "      <td>4</td>\n",
       "      <td>3565</td>\n",
       "      <td>6</td>\n",
       "      <td>Petrol - Unleaded ULP</td>\n",
       "      <td>Aspirated</td>\n",
       "      <td>PASS</td>\n",
       "      <td>DOHC with VVT</td>\n",
       "      <td>Piston</td>\n",
       "      <td>73.0</td>\n",
       "      <td>Multi-Point Injection</td>\n",
       "      <td>Electronic Sequential</td>\n",
       "      <td>NaN</td>\n",
       "      <td>NaN</td>\n",
       "      <td>6G1EK52B#8L######</td>\n",
       "      <td>2915.0</td>\n",
       "      <td>1476.0</td>\n",
       "      <td>4894.0</td>\n",
       "      <td>1899.0</td>\n",
       "      <td>1690.0</td>\n",
       "      <td>1622.0</td>\n",
       "      <td>NaN</td>\n",
       "      <td>180.0</td>\n",
       "      <td>NaN</td>\n",
       "      <td>6000.0</td>\n",
       "      <td>330.0</td>\n",
       "      <td>NaN</td>\n",
       "      <td>2600.0</td>\n",
       "      <td>91.0</td>\n",
       "      <td>5.0</td>\n",
       "      <td>8EK69-114</td>\n",
       "      <td>AUSTRALIA</td>\n",
       "      <td>4.0</td>\n",
       "      <td>4 Stroke</td>\n",
       "      <td>V60</td>\n",
       "      <td>Front</td>\n",
       "      <td>HBA04 ######</td>\n",
       "      <td>NaN</td>\n",
       "      <td>225/60 R16</td>\n",
       "      <td>225/60 R16</td>\n",
       "      <td>16x7.0</td>\n",
       "      <td>16x7.0</td>\n",
       "      <td>2100.0</td>\n",
       "      <td>NaN</td>\n",
       "      <td>3yr Roadside</td>\n",
       "      <td>NaN</td>\n",
       "      <td>3.0</td>\n",
       "      <td>100000.0</td>\n",
       "      <td>15000.0</td>\n",
       "      <td>12.0</td>\n",
       "      <td>12.0</td>\n",
       "      <td>NaN</td>\n",
       "      <td>NaN</td>\n",
       "      <td>NaN</td>\n",
       "      <td>NaN</td>\n",
       "      <td>NaN</td>\n",
       "      <td>NaN</td>\n",
       "      <td>NaN</td>\n",
       "      <td>NaN</td>\n",
       "      <td>NaN</td>\n",
       "      <td>NaN</td>\n",
       "      <td>NaN</td>\n",
       "      <td>NaN</td>\n",
       "      <td>NaN</td>\n",
       "      <td>NaN</td>\n",
       "      <td>NaN</td>\n",
       "      <td>NaN</td>\n",
       "      <td>NaN</td>\n",
       "      <td>NaN</td>\n",
       "      <td>NaN</td>\n",
       "      <td>5.0</td>\n",
       "      <td>5.0</td>\n",
       "      <td>3.0</td>\n",
       "      <td>260.0</td>\n",
       "      <td>NaN</td>\n",
       "      <td>NaN</td>\n",
       "      <td>NaN</td>\n",
       "      <td>NaN</td>\n",
       "      <td>10.9</td>\n",
       "      <td>NaN</td>\n",
       "      <td>NaN</td>\n",
       "      <td>4.0</td>\n",
       "      <td>Passenger</td>\n",
       "      <td>Large</td>\n",
       "      <td>&lt; $70K</td>\n",
       "      <td>T</td>\n",
       "      <td>230.0</td>\n",
       "      <td>140.0</td>\n",
       "      <td>34790.0</td>\n",
       "      <td>White</td>\n",
       "      <td>Perth (WA)</td>\n",
       "      <td>Auction</td>\n",
       "      <td>2015-11-03 00:00:00.000</td>\n",
       "      <td>02/2008</td>\n",
       "      <td>93.0</td>\n",
       "      <td>227878.0</td>\n",
       "      <td>2000.0</td>\n",
       "    </tr>\n",
       "    <tr>\n",
       "      <th>1</th>\n",
       "      <td>Holden</td>\n",
       "      <td>Commodore</td>\n",
       "      <td>HOLD</td>\n",
       "      <td>COMMODO</td>\n",
       "      <td>1993</td>\n",
       "      <td>7</td>\n",
       "      <td>41</td>\n",
       "      <td>VR Executive Wagon 5dr. Auto 4sp 3.8i</td>\n",
       "      <td>F</td>\n",
       "      <td>L</td>\n",
       "      <td>F</td>\n",
       "      <td>VR</td>\n",
       "      <td>NaN</td>\n",
       "      <td>Executive</td>\n",
       "      <td>NaN</td>\n",
       "      <td>Wagon</td>\n",
       "      <td>NaN</td>\n",
       "      <td>NaN</td>\n",
       "      <td>NaN</td>\n",
       "      <td>NaN</td>\n",
       "      <td>Rear Wheel Drive</td>\n",
       "      <td>RWD</td>\n",
       "      <td>Automatic</td>\n",
       "      <td>Floor</td>\n",
       "      <td>4.0</td>\n",
       "      <td>5</td>\n",
       "      <td>3791</td>\n",
       "      <td>6</td>\n",
       "      <td>Petrol - Unleaded ULP</td>\n",
       "      <td>Aspirated</td>\n",
       "      <td>PASS</td>\n",
       "      <td>Pushrod</td>\n",
       "      <td>Piston</td>\n",
       "      <td>68.0</td>\n",
       "      <td>Multi-Point Injection</td>\n",
       "      <td>Electronic</td>\n",
       "      <td>NaN</td>\n",
       "      <td>NaN</td>\n",
       "      <td>6H8VRK35HPL######</td>\n",
       "      <td>2822.0</td>\n",
       "      <td>1478.0</td>\n",
       "      <td>4903.0</td>\n",
       "      <td>1794.0</td>\n",
       "      <td>1380.0</td>\n",
       "      <td>1380.0</td>\n",
       "      <td>NaN</td>\n",
       "      <td>130.0</td>\n",
       "      <td>NaN</td>\n",
       "      <td>4800.0</td>\n",
       "      <td>295.0</td>\n",
       "      <td>NaN</td>\n",
       "      <td>3200.0</td>\n",
       "      <td>NaN</td>\n",
       "      <td>5.0</td>\n",
       "      <td>NaN</td>\n",
       "      <td>AUSTRALIA</td>\n",
       "      <td>2.0</td>\n",
       "      <td>4 Stroke</td>\n",
       "      <td>V90</td>\n",
       "      <td>Front</td>\n",
       "      <td>VH-######</td>\n",
       "      <td>NaN</td>\n",
       "      <td>205/65 R15</td>\n",
       "      <td>205/65 R15</td>\n",
       "      <td>15x6.0</td>\n",
       "      <td>15x6.0</td>\n",
       "      <td>NaN</td>\n",
       "      <td>NaN</td>\n",
       "      <td>NaN</td>\n",
       "      <td>NaN</td>\n",
       "      <td>NaN</td>\n",
       "      <td>NaN</td>\n",
       "      <td>NaN</td>\n",
       "      <td>NaN</td>\n",
       "      <td>NaN</td>\n",
       "      <td>NaN</td>\n",
       "      <td>NaN</td>\n",
       "      <td>NaN</td>\n",
       "      <td>NaN</td>\n",
       "      <td>NaN</td>\n",
       "      <td>NaN</td>\n",
       "      <td>NaN</td>\n",
       "      <td>NaN</td>\n",
       "      <td>NaN</td>\n",
       "      <td>NaN</td>\n",
       "      <td>NaN</td>\n",
       "      <td>NaN</td>\n",
       "      <td>NaN</td>\n",
       "      <td>NaN</td>\n",
       "      <td>NaN</td>\n",
       "      <td>NaN</td>\n",
       "      <td>NaN</td>\n",
       "      <td>NaN</td>\n",
       "      <td>NaN</td>\n",
       "      <td>NaN</td>\n",
       "      <td>NaN</td>\n",
       "      <td>NaN</td>\n",
       "      <td>NaN</td>\n",
       "      <td>NaN</td>\n",
       "      <td>NaN</td>\n",
       "      <td>12.0</td>\n",
       "      <td>7.6</td>\n",
       "      <td>9.2</td>\n",
       "      <td>NaN</td>\n",
       "      <td>NaN</td>\n",
       "      <td>NaN</td>\n",
       "      <td>Passenger</td>\n",
       "      <td>Large</td>\n",
       "      <td>&lt; $70K</td>\n",
       "      <td>T</td>\n",
       "      <td>600.0</td>\n",
       "      <td>360.0</td>\n",
       "      <td>27978.0</td>\n",
       "      <td>Red</td>\n",
       "      <td>Belmore (NSW)</td>\n",
       "      <td>Auction</td>\n",
       "      <td>2000-10-18 00:00:00.000</td>\n",
       "      <td>08/1993</td>\n",
       "      <td>86.0</td>\n",
       "      <td>153091.0</td>\n",
       "      <td>6800.0</td>\n",
       "    </tr>\n",
       "    <tr>\n",
       "      <th>2</th>\n",
       "      <td>Toyota</td>\n",
       "      <td>RAV4</td>\n",
       "      <td>TOYO</td>\n",
       "      <td>RAV4</td>\n",
       "      <td>2012</td>\n",
       "      <td>0</td>\n",
       "      <td>6</td>\n",
       "      <td>ACA33R MY12 CV Wagon 5dr Man 5sp 4x4 2.4i</td>\n",
       "      <td>F</td>\n",
       "      <td>L</td>\n",
       "      <td>F</td>\n",
       "      <td>ACA33R</td>\n",
       "      <td>MY12</td>\n",
       "      <td>CV</td>\n",
       "      <td>NaN</td>\n",
       "      <td>Wagon</td>\n",
       "      <td>NaN</td>\n",
       "      <td>NaN</td>\n",
       "      <td>NaN</td>\n",
       "      <td>NaN</td>\n",
       "      <td>4X4 On Demand</td>\n",
       "      <td>4XO</td>\n",
       "      <td>Manual</td>\n",
       "      <td>Floor</td>\n",
       "      <td>5.0</td>\n",
       "      <td>5</td>\n",
       "      <td>2362</td>\n",
       "      <td>4</td>\n",
       "      <td>Petrol - Unleaded ULP</td>\n",
       "      <td>Aspirated</td>\n",
       "      <td>SUV</td>\n",
       "      <td>DOHC with VVT</td>\n",
       "      <td>Piston</td>\n",
       "      <td>60.0</td>\n",
       "      <td>Multi-Point Injection</td>\n",
       "      <td>Electronic Sequential</td>\n",
       "      <td>3560.0</td>\n",
       "      <td>2060.0</td>\n",
       "      <td>JTMBD33V*05######</td>\n",
       "      <td>2660.0</td>\n",
       "      <td>1695.0</td>\n",
       "      <td>4625.0</td>\n",
       "      <td>1815.0</td>\n",
       "      <td>1545.0</td>\n",
       "      <td>1510.0</td>\n",
       "      <td>515.0</td>\n",
       "      <td>125.0</td>\n",
       "      <td>NaN</td>\n",
       "      <td>6000.0</td>\n",
       "      <td>224.0</td>\n",
       "      <td>NaN</td>\n",
       "      <td>4000.0</td>\n",
       "      <td>91.0</td>\n",
       "      <td>5.0</td>\n",
       "      <td>ACA33R-ANMXKQ</td>\n",
       "      <td>JAPAN</td>\n",
       "      <td>4.0</td>\n",
       "      <td>4 Stroke</td>\n",
       "      <td>In-line</td>\n",
       "      <td>Front</td>\n",
       "      <td>2AZ-#######</td>\n",
       "      <td>NaN</td>\n",
       "      <td>225/65 R17</td>\n",
       "      <td>225/65 R17</td>\n",
       "      <td>17x6.5</td>\n",
       "      <td>17x6.5</td>\n",
       "      <td>1500.0</td>\n",
       "      <td>750.0</td>\n",
       "      <td>NaN</td>\n",
       "      <td>NaN</td>\n",
       "      <td>3.0</td>\n",
       "      <td>100000.0</td>\n",
       "      <td>5000.0</td>\n",
       "      <td>3.0</td>\n",
       "      <td>6.0</td>\n",
       "      <td>NaN</td>\n",
       "      <td>NaN</td>\n",
       "      <td>NaN</td>\n",
       "      <td>NaN</td>\n",
       "      <td>NaN</td>\n",
       "      <td>NaN</td>\n",
       "      <td>NaN</td>\n",
       "      <td>NaN</td>\n",
       "      <td>NaN</td>\n",
       "      <td>NaN</td>\n",
       "      <td>NaN</td>\n",
       "      <td>NaN</td>\n",
       "      <td>NaN</td>\n",
       "      <td>NaN</td>\n",
       "      <td>NaN</td>\n",
       "      <td>NaN</td>\n",
       "      <td>NaN</td>\n",
       "      <td>NaN</td>\n",
       "      <td>NaN</td>\n",
       "      <td>6.0</td>\n",
       "      <td>6.5</td>\n",
       "      <td>3.5</td>\n",
       "      <td>213.0</td>\n",
       "      <td>NaN</td>\n",
       "      <td>NaN</td>\n",
       "      <td>NaN</td>\n",
       "      <td>NaN</td>\n",
       "      <td>9.1</td>\n",
       "      <td>NaN</td>\n",
       "      <td>NaN</td>\n",
       "      <td>4.0</td>\n",
       "      <td>SUV</td>\n",
       "      <td>Medium</td>\n",
       "      <td>&lt; $60K</td>\n",
       "      <td>T</td>\n",
       "      <td>130.0</td>\n",
       "      <td>80.0</td>\n",
       "      <td>31990.0</td>\n",
       "      <td>040 - Glacier White (T)</td>\n",
       "      <td>Sunshine (VIC)</td>\n",
       "      <td>Dealer Only Auction</td>\n",
       "      <td>2014-02-05 00:00:00.000</td>\n",
       "      <td>10/2012</td>\n",
       "      <td>16.0</td>\n",
       "      <td>27374.0</td>\n",
       "      <td>22900.0</td>\n",
       "    </tr>\n",
       "    <tr>\n",
       "      <th>3</th>\n",
       "      <td>Holden</td>\n",
       "      <td>Commodore</td>\n",
       "      <td>HOLD</td>\n",
       "      <td>COMMODO</td>\n",
       "      <td>2007</td>\n",
       "      <td>0</td>\n",
       "      <td>11</td>\n",
       "      <td>VZ@VE MY07 Executive Wagon 5dr. Auto 4sp 3.6i</td>\n",
       "      <td>F</td>\n",
       "      <td>L</td>\n",
       "      <td>F</td>\n",
       "      <td>VZ@VE</td>\n",
       "      <td>MY07</td>\n",
       "      <td>Executive</td>\n",
       "      <td>NaN</td>\n",
       "      <td>Wagon</td>\n",
       "      <td>NaN</td>\n",
       "      <td>NaN</td>\n",
       "      <td>NaN</td>\n",
       "      <td>NaN</td>\n",
       "      <td>Rear Wheel Drive</td>\n",
       "      <td>RWD</td>\n",
       "      <td>Automatic</td>\n",
       "      <td>Floor</td>\n",
       "      <td>4.0</td>\n",
       "      <td>5</td>\n",
       "      <td>3565</td>\n",
       "      <td>6</td>\n",
       "      <td>Petrol - Unleaded ULP</td>\n",
       "      <td>Aspirated</td>\n",
       "      <td>PASS</td>\n",
       "      <td>DOHC with VVT</td>\n",
       "      <td>Piston</td>\n",
       "      <td>75.0</td>\n",
       "      <td>Multi-Point Injection</td>\n",
       "      <td>Electronic Sequential</td>\n",
       "      <td>NaN</td>\n",
       "      <td>NaN</td>\n",
       "      <td>6G1ZK82B#8L######</td>\n",
       "      <td>2938.0</td>\n",
       "      <td>1527.0</td>\n",
       "      <td>5033.0</td>\n",
       "      <td>1847.0</td>\n",
       "      <td>1576.0</td>\n",
       "      <td>1576.0</td>\n",
       "      <td>NaN</td>\n",
       "      <td>172.0</td>\n",
       "      <td>NaN</td>\n",
       "      <td>6000.0</td>\n",
       "      <td>320.0</td>\n",
       "      <td>NaN</td>\n",
       "      <td>2800.0</td>\n",
       "      <td>91.0</td>\n",
       "      <td>5.0</td>\n",
       "      <td>8VK35-114</td>\n",
       "      <td>AUSTRALIA</td>\n",
       "      <td>4.0</td>\n",
       "      <td>4 Stroke</td>\n",
       "      <td>V60</td>\n",
       "      <td>Front</td>\n",
       "      <td>HBA06 #######</td>\n",
       "      <td>NaN</td>\n",
       "      <td>205/65 R15</td>\n",
       "      <td>205/65 R15</td>\n",
       "      <td>15x6.0</td>\n",
       "      <td>15x6.0</td>\n",
       "      <td>2100.0</td>\n",
       "      <td>500.0</td>\n",
       "      <td>3yr Roadside</td>\n",
       "      <td>NaN</td>\n",
       "      <td>3.0</td>\n",
       "      <td>100000.0</td>\n",
       "      <td>15000.0</td>\n",
       "      <td>12.0</td>\n",
       "      <td>12.0</td>\n",
       "      <td>NaN</td>\n",
       "      <td>NaN</td>\n",
       "      <td>NaN</td>\n",
       "      <td>NaN</td>\n",
       "      <td>NaN</td>\n",
       "      <td>NaN</td>\n",
       "      <td>NaN</td>\n",
       "      <td>NaN</td>\n",
       "      <td>NaN</td>\n",
       "      <td>NaN</td>\n",
       "      <td>NaN</td>\n",
       "      <td>NaN</td>\n",
       "      <td>NaN</td>\n",
       "      <td>NaN</td>\n",
       "      <td>NaN</td>\n",
       "      <td>NaN</td>\n",
       "      <td>NaN</td>\n",
       "      <td>NaN</td>\n",
       "      <td>NaN</td>\n",
       "      <td>4.5</td>\n",
       "      <td>5.0</td>\n",
       "      <td>3.0</td>\n",
       "      <td>264.0</td>\n",
       "      <td>NaN</td>\n",
       "      <td>NaN</td>\n",
       "      <td>NaN</td>\n",
       "      <td>NaN</td>\n",
       "      <td>11.2</td>\n",
       "      <td>NaN</td>\n",
       "      <td>NaN</td>\n",
       "      <td>4.0</td>\n",
       "      <td>Passenger</td>\n",
       "      <td>Large</td>\n",
       "      <td>&lt; $70K</td>\n",
       "      <td>T</td>\n",
       "      <td>250.0</td>\n",
       "      <td>150.0</td>\n",
       "      <td>35990.0</td>\n",
       "      <td>Quicksilver</td>\n",
       "      <td>Belmore (NSW)</td>\n",
       "      <td>Auction</td>\n",
       "      <td>2011-01-10 00:00:00.000</td>\n",
       "      <td>01/2007</td>\n",
       "      <td>48.0</td>\n",
       "      <td>99452.0</td>\n",
       "      <td>10500.0</td>\n",
       "    </tr>\n",
       "    <tr>\n",
       "      <th>4</th>\n",
       "      <td>Toyota</td>\n",
       "      <td>Tarago</td>\n",
       "      <td>TOYO</td>\n",
       "      <td>TARAGO</td>\n",
       "      <td>2007</td>\n",
       "      <td>0</td>\n",
       "      <td>0</td>\n",
       "      <td>ACR50R GLi Wagon 8st 5dr Spts Auto 4sp 2.4i</td>\n",
       "      <td>F</td>\n",
       "      <td>L</td>\n",
       "      <td>F</td>\n",
       "      <td>ACR50R</td>\n",
       "      <td>NaN</td>\n",
       "      <td>GLi</td>\n",
       "      <td>NaN</td>\n",
       "      <td>Wagon</td>\n",
       "      <td>NaN</td>\n",
       "      <td>NaN</td>\n",
       "      <td>NaN</td>\n",
       "      <td>NaN</td>\n",
       "      <td>Front Wheel Drive</td>\n",
       "      <td>FWD</td>\n",
       "      <td>Sports Automatic</td>\n",
       "      <td>Dash</td>\n",
       "      <td>4.0</td>\n",
       "      <td>5</td>\n",
       "      <td>2362</td>\n",
       "      <td>4</td>\n",
       "      <td>Petrol - Unleaded ULP</td>\n",
       "      <td>Aspirated</td>\n",
       "      <td>PASS</td>\n",
       "      <td>DOHC with VVT</td>\n",
       "      <td>Piston</td>\n",
       "      <td>65.0</td>\n",
       "      <td>Multi-Point Injection</td>\n",
       "      <td>Electronic Sequential</td>\n",
       "      <td>NaN</td>\n",
       "      <td>2430.0</td>\n",
       "      <td>JTEGD52M##7######</td>\n",
       "      <td>2950.0</td>\n",
       "      <td>1750.0</td>\n",
       "      <td>4795.0</td>\n",
       "      <td>1800.0</td>\n",
       "      <td>1725.0</td>\n",
       "      <td>1685.0</td>\n",
       "      <td>NaN</td>\n",
       "      <td>125.0</td>\n",
       "      <td>NaN</td>\n",
       "      <td>6000.0</td>\n",
       "      <td>224.0</td>\n",
       "      <td>NaN</td>\n",
       "      <td>4000.0</td>\n",
       "      <td>91.0</td>\n",
       "      <td>8.0</td>\n",
       "      <td>ACR50R-GRPDKQ</td>\n",
       "      <td>JAPAN</td>\n",
       "      <td>4.0</td>\n",
       "      <td>4 Stroke</td>\n",
       "      <td>In-line</td>\n",
       "      <td>Front</td>\n",
       "      <td>2AZ-#######</td>\n",
       "      <td>NaN</td>\n",
       "      <td>205/65 R16</td>\n",
       "      <td>215/65 R16</td>\n",
       "      <td>16x6.5</td>\n",
       "      <td>16x6.5</td>\n",
       "      <td>1600.0</td>\n",
       "      <td>600.0</td>\n",
       "      <td>Roadside</td>\n",
       "      <td>NaN</td>\n",
       "      <td>3.0</td>\n",
       "      <td>100000.0</td>\n",
       "      <td>5000.0</td>\n",
       "      <td>3.0</td>\n",
       "      <td>6.0</td>\n",
       "      <td>NaN</td>\n",
       "      <td>NaN</td>\n",
       "      <td>NaN</td>\n",
       "      <td>NaN</td>\n",
       "      <td>NaN</td>\n",
       "      <td>NaN</td>\n",
       "      <td>NaN</td>\n",
       "      <td>NaN</td>\n",
       "      <td>NaN</td>\n",
       "      <td>NaN</td>\n",
       "      <td>NaN</td>\n",
       "      <td>NaN</td>\n",
       "      <td>NaN</td>\n",
       "      <td>NaN</td>\n",
       "      <td>NaN</td>\n",
       "      <td>NaN</td>\n",
       "      <td>NaN</td>\n",
       "      <td>NaN</td>\n",
       "      <td>NaN</td>\n",
       "      <td>5.5</td>\n",
       "      <td>6.5</td>\n",
       "      <td>3.5</td>\n",
       "      <td>222.0</td>\n",
       "      <td>293.0</td>\n",
       "      <td>181.0</td>\n",
       "      <td>12.6</td>\n",
       "      <td>7.7</td>\n",
       "      <td>9.5</td>\n",
       "      <td>NaN</td>\n",
       "      <td>NaN</td>\n",
       "      <td>NaN</td>\n",
       "      <td>Passenger</td>\n",
       "      <td>People Movers</td>\n",
       "      <td>&lt; $60K</td>\n",
       "      <td>T</td>\n",
       "      <td>250.0</td>\n",
       "      <td>150.0</td>\n",
       "      <td>49490.0</td>\n",
       "      <td>Silver</td>\n",
       "      <td>Hobart (TAS)</td>\n",
       "      <td>Special Fixed Price</td>\n",
       "      <td>2009-05-23 00:00:00.000</td>\n",
       "      <td>01/2007</td>\n",
       "      <td>28.0</td>\n",
       "      <td>44355.0</td>\n",
       "      <td>31320.0</td>\n",
       "    </tr>\n",
       "  </tbody>\n",
       "</table>\n",
       "</div>"
      ],
      "text/plain": [
       "     Make      Model MakeCode FamilyCode  YearGroup  MonthGroup  SequenceNum  \\\n",
       "0  Holden  Commodore     HOLD    COMMODO       2008           0            0   \n",
       "1  Holden  Commodore     HOLD    COMMODO       1993           7           41   \n",
       "2  Toyota       RAV4     TOYO       RAV4       2012           0            6   \n",
       "3  Holden  Commodore     HOLD    COMMODO       2007           0           11   \n",
       "4  Toyota     Tarago     TOYO     TARAGO       2007           0            0   \n",
       "\n",
       "                                     Description CurrentRelease ImportFlag  \\\n",
       "0              VE Omega Sedan 4dr. Auto 4sp 3.6i              F          L   \n",
       "1          VR Executive Wagon 5dr. Auto 4sp 3.8i              F          L   \n",
       "2      ACA33R MY12 CV Wagon 5dr Man 5sp 4x4 2.4i              F          L   \n",
       "3  VZ@VE MY07 Executive Wagon 5dr. Auto 4sp 3.6i              F          L   \n",
       "4    ACR50R GLi Wagon 8st 5dr Spts Auto 4sp 2.4i              F          L   \n",
       "\n",
       "  LimitedEdition  Series SeriesModelYear BadgeDescription  \\\n",
       "0              F      VE             NaN            Omega   \n",
       "1              F      VR             NaN        Executive   \n",
       "2              F  ACA33R            MY12               CV   \n",
       "3              F   VZ@VE            MY07        Executive   \n",
       "4              F  ACR50R             NaN              GLi   \n",
       "\n",
       "  BadgeSecondaryDescription BodyStyleDescription BodyConfigDescription  \\\n",
       "0                       NaN                Sedan                   NaN   \n",
       "1                       NaN                Wagon                   NaN   \n",
       "2                       NaN                Wagon                   NaN   \n",
       "3                       NaN                Wagon                   NaN   \n",
       "4                       NaN                Wagon                   NaN   \n",
       "\n",
       "  WheelBaseConfig Roofline ExtraIdentification   DriveDescription DriveCode  \\\n",
       "0             NaN      NaN                 NaN   Rear Wheel Drive       RWD   \n",
       "1             NaN      NaN                 NaN   Rear Wheel Drive       RWD   \n",
       "2             NaN      NaN                 NaN      4X4 On Demand       4XO   \n",
       "3             NaN      NaN                 NaN   Rear Wheel Drive       RWD   \n",
       "4             NaN      NaN                 NaN  Front Wheel Drive       FWD   \n",
       "\n",
       "  GearTypeDescription GearLocationDescription  GearNum  DoorNum  EngineSize  \\\n",
       "0           Automatic                   Floor      4.0        4        3565   \n",
       "1           Automatic                   Floor      4.0        5        3791   \n",
       "2              Manual                   Floor      5.0        5        2362   \n",
       "3           Automatic                   Floor      4.0        5        3565   \n",
       "4    Sports Automatic                    Dash      4.0        5        2362   \n",
       "\n",
       "   Cylinders    FuelTypeDescription InductionDescription OptionCategory  \\\n",
       "0          6  Petrol - Unleaded ULP            Aspirated           PASS   \n",
       "1          6  Petrol - Unleaded ULP            Aspirated           PASS   \n",
       "2          4  Petrol - Unleaded ULP            Aspirated            SUV   \n",
       "3          6  Petrol - Unleaded ULP            Aspirated           PASS   \n",
       "4          4  Petrol - Unleaded ULP            Aspirated           PASS   \n",
       "\n",
       "  CamDescription EngineTypeDescription  FuelCapacity FuelDeliveryDescription  \\\n",
       "0  DOHC with VVT                Piston          73.0   Multi-Point Injection   \n",
       "1        Pushrod                Piston          68.0   Multi-Point Injection   \n",
       "2  DOHC with VVT                Piston          60.0   Multi-Point Injection   \n",
       "3  DOHC with VVT                Piston          75.0   Multi-Point Injection   \n",
       "4  DOHC with VVT                Piston          65.0   Multi-Point Injection   \n",
       "\n",
       "  MethodOfDeliveryDescription  GrossCombinationMAss  GrossVehicleMass  \\\n",
       "0       Electronic Sequential                   NaN               NaN   \n",
       "1                  Electronic                   NaN               NaN   \n",
       "2       Electronic Sequential                3560.0            2060.0   \n",
       "3       Electronic Sequential                   NaN               NaN   \n",
       "4       Electronic Sequential                   NaN            2430.0   \n",
       "\n",
       "                 VIN  WheelBase  Height  Length   Width  KerbWeight  TareMass  \\\n",
       "0  6G1EK52B#8L######     2915.0  1476.0  4894.0  1899.0      1690.0    1622.0   \n",
       "1  6H8VRK35HPL######     2822.0  1478.0  4903.0  1794.0      1380.0    1380.0   \n",
       "2  JTMBD33V*05######     2660.0  1695.0  4625.0  1815.0      1545.0    1510.0   \n",
       "3  6G1ZK82B#8L######     2938.0  1527.0  5033.0  1847.0      1576.0    1576.0   \n",
       "4  JTEGD52M##7######     2950.0  1750.0  4795.0  1800.0      1725.0    1685.0   \n",
       "\n",
       "   PayLoad  Power  PowerRPMFrom  PowerRPMTo  Torque  TorqueRPMFrom  \\\n",
       "0      NaN  180.0           NaN      6000.0   330.0            NaN   \n",
       "1      NaN  130.0           NaN      4800.0   295.0            NaN   \n",
       "2    515.0  125.0           NaN      6000.0   224.0            NaN   \n",
       "3      NaN  172.0           NaN      6000.0   320.0            NaN   \n",
       "4      NaN  125.0           NaN      6000.0   224.0            NaN   \n",
       "\n",
       "   TorqueRPMTo  RonRating  SeatCapacity      ModelCode  \\\n",
       "0       2600.0       91.0           5.0      8EK69-114   \n",
       "1       3200.0        NaN           5.0            NaN   \n",
       "2       4000.0       91.0           5.0  ACA33R-ANMXKQ   \n",
       "3       2800.0       91.0           5.0      8VK35-114   \n",
       "4       4000.0       91.0           8.0  ACR50R-GRPDKQ   \n",
       "\n",
       "  BuildCountryOriginDescription  ValvesCylinder EngineCycleDescription  \\\n",
       "0                     AUSTRALIA             4.0               4 Stroke   \n",
       "1                     AUSTRALIA             2.0               4 Stroke   \n",
       "2                         JAPAN             4.0               4 Stroke   \n",
       "3                     AUSTRALIA             4.0               4 Stroke   \n",
       "4                         JAPAN             4.0               4 Stroke   \n",
       "\n",
       "  EngineConfigurationDescription EngineLocation      EngineNum  Acceleration  \\\n",
       "0                            V60          Front   HBA04 ######           NaN   \n",
       "1                            V90          Front      VH-######           NaN   \n",
       "2                        In-line          Front    2AZ-#######           NaN   \n",
       "3                            V60          Front  HBA06 #######           NaN   \n",
       "4                        In-line          Front    2AZ-#######           NaN   \n",
       "\n",
       "  FrontTyreSize RearTyreSize FrontRimDesc RearRimDesc  TowingBrakes  \\\n",
       "0    225/60 R16   225/60 R16       16x7.0      16x7.0        2100.0   \n",
       "1    205/65 R15   205/65 R15       15x6.0      15x6.0           NaN   \n",
       "2    225/65 R17   225/65 R17       17x6.5      17x6.5        1500.0   \n",
       "3    205/65 R15   205/65 R15       15x6.0      15x6.0        2100.0   \n",
       "4    205/65 R16   215/65 R16       16x6.5      16x6.5        1600.0   \n",
       "\n",
       "   TowingNoBrakes WarrantyCustAssist FreeScheduledService  WarrantyYears  \\\n",
       "0             NaN       3yr Roadside                  NaN            3.0   \n",
       "1             NaN                NaN                  NaN            NaN   \n",
       "2           750.0                NaN                  NaN            3.0   \n",
       "3           500.0       3yr Roadside                  NaN            3.0   \n",
       "4           600.0           Roadside                  NaN            3.0   \n",
       "\n",
       "   WarrantyKM  FirstServiceKM  FirstServiceMonths  RegServiceMonths  \\\n",
       "0    100000.0         15000.0                12.0              12.0   \n",
       "1         NaN             NaN                 NaN               NaN   \n",
       "2    100000.0          5000.0                 3.0               6.0   \n",
       "3    100000.0         15000.0                12.0              12.0   \n",
       "4    100000.0          5000.0                 3.0               6.0   \n",
       "\n",
       "  AltEngEngineType AltEngBatteryType AltEngCurrentType  AltEngAmpHours  \\\n",
       "0              NaN               NaN               NaN             NaN   \n",
       "1              NaN               NaN               NaN             NaN   \n",
       "2              NaN               NaN               NaN             NaN   \n",
       "3              NaN               NaN               NaN             NaN   \n",
       "4              NaN               NaN               NaN             NaN   \n",
       "\n",
       "   AltEngVolts AltEngChargingMethod  AltEngPower  AltEngPowerFrom  \\\n",
       "0          NaN                  NaN          NaN              NaN   \n",
       "1          NaN                  NaN          NaN              NaN   \n",
       "2          NaN                  NaN          NaN              NaN   \n",
       "3          NaN                  NaN          NaN              NaN   \n",
       "4          NaN                  NaN          NaN              NaN   \n",
       "\n",
       "   AltEngPowerTo  AltEngTorque  AltEngTorqueFrom  AltEngTorqueTo AltEngDrive  \\\n",
       "0            NaN           NaN               NaN             NaN         NaN   \n",
       "1            NaN           NaN               NaN             NaN         NaN   \n",
       "2            NaN           NaN               NaN             NaN         NaN   \n",
       "3            NaN           NaN               NaN             NaN         NaN   \n",
       "4            NaN           NaN               NaN             NaN         NaN   \n",
       "\n",
       "   NormalChargeMins  QuickChargeMins  QuickChargeVoltage  KMRangeElectricEng  \\\n",
       "0               NaN              NaN                 NaN                 NaN   \n",
       "1               NaN              NaN                 NaN                 NaN   \n",
       "2               NaN              NaN                 NaN                 NaN   \n",
       "3               NaN              NaN                 NaN                 NaN   \n",
       "4               NaN              NaN                 NaN                 NaN   \n",
       "\n",
       "  ElectricEngineLocation  TopSpeedElectricEng  GreenhouseRating  \\\n",
       "0                    NaN                  NaN               5.0   \n",
       "1                    NaN                  NaN               NaN   \n",
       "2                    NaN                  NaN               6.0   \n",
       "3                    NaN                  NaN               4.5   \n",
       "4                    NaN                  NaN               5.5   \n",
       "\n",
       "   AirpollutionRating  OverallGreenStarRating  CO2Combined  CO2Urban  \\\n",
       "0                 5.0                     3.0        260.0       NaN   \n",
       "1                 NaN                     NaN          NaN       NaN   \n",
       "2                 6.5                     3.5        213.0       NaN   \n",
       "3                 5.0                     3.0        264.0       NaN   \n",
       "4                 6.5                     3.5        222.0     293.0   \n",
       "\n",
       "   CO2ExtraUrban  FuelUrban  FuelExtraurban  FuelCombined EmissionStandard  \\\n",
       "0            NaN        NaN             NaN          10.9              NaN   \n",
       "1            NaN       12.0             7.6           9.2              NaN   \n",
       "2            NaN        NaN             NaN           9.1              NaN   \n",
       "3            NaN        NaN             NaN          11.2              NaN   \n",
       "4          181.0       12.6             7.7           9.5              NaN   \n",
       "\n",
       "  MaxEthanolBlend  AncapRating VFactsClass  VFactsSegment VFactsPrice  \\\n",
       "0             NaN          4.0   Passenger          Large      < $70K   \n",
       "1             NaN          NaN   Passenger          Large      < $70K   \n",
       "2             NaN          4.0         SUV         Medium      < $60K   \n",
       "3             NaN          4.0   Passenger          Large      < $70K   \n",
       "4             NaN          NaN   Passenger  People Movers      < $60K   \n",
       "\n",
       "  IsPPlateApproved  AverageKM  GoodKM  NewPrice                   Colour  \\\n",
       "0                T      230.0   140.0   34790.0                    White   \n",
       "1                T      600.0   360.0   27978.0                      Red   \n",
       "2                T      130.0    80.0   31990.0  040 - Glacier White (T)   \n",
       "3                T      250.0   150.0   35990.0              Quicksilver   \n",
       "4                T      250.0   150.0   49490.0                   Silver   \n",
       "\n",
       "           Branch         SaleCategory                Sold_Date  \\\n",
       "0      Perth (WA)              Auction  2015-11-03 00:00:00.000   \n",
       "1   Belmore (NSW)              Auction  2000-10-18 00:00:00.000   \n",
       "2  Sunshine (VIC)  Dealer Only Auction  2014-02-05 00:00:00.000   \n",
       "3   Belmore (NSW)              Auction  2011-01-10 00:00:00.000   \n",
       "4    Hobart (TAS)  Special Fixed Price  2009-05-23 00:00:00.000   \n",
       "\n",
       "  Compliance_Date  Age_Comp_Months        KM  Sold_Amount  \n",
       "0         02/2008             93.0  227878.0       2000.0  \n",
       "1         08/1993             86.0  153091.0       6800.0  \n",
       "2         10/2012             16.0   27374.0      22900.0  \n",
       "3         01/2007             48.0   99452.0      10500.0  \n",
       "4         01/2007             28.0   44355.0      31320.0  "
      ]
     },
     "execution_count": 80,
     "metadata": {},
     "output_type": "execute_result"
    }
   ],
   "source": [
    "df=pd.read_csv('../datasets/dataset_1.csv')\n",
    "print('INFO - Load Dataset from Preprocess 1')\n",
    "df.head()"
   ]
  },
  {
   "cell_type": "markdown",
   "id": "8cbf2b6b",
   "metadata": {},
   "source": [
    "# Missingness & Imputations"
   ]
  },
  {
   "cell_type": "code",
   "execution_count": 81,
   "id": "45b900f8",
   "metadata": {
    "ExecuteTime": {
     "end_time": "2021-12-31T14:06:32.727688Z",
     "start_time": "2021-12-31T14:06:32.713654Z"
    }
   },
   "outputs": [],
   "source": [
    "SELECT_CAT_COLS = [\n",
    "    'MakeCode', 'FamilyCode', 'BodyStyleDescription', 'DriveCode', 'GearTypeDescription',\n",
    "    'GearLocationDescription', 'FuelTypeDescription', 'InductionDescription', 'BuildCountryOriginDescription', \n",
    "]\n",
    "SELECT_NUM_COLS = [\n",
    "    'GearNum', 'DoorNum', 'EngineSize', 'Cylinders', 'FuelCapacity', 'NewPrice',\n",
    "    'WarrantyYears', 'WarrantyKM', 'KM',\n",
    "]\n",
    "SELECT_DATE_COLS = ['Sold_Date', 'YearGroup','MonthGroup', 'Compliance_Date',  'Age_Comp_Months']"
   ]
  },
  {
   "cell_type": "code",
   "execution_count": 82,
   "id": "2dd8db7d",
   "metadata": {
    "ExecuteTime": {
     "end_time": "2021-12-31T14:06:32.786876Z",
     "start_time": "2021-12-31T14:06:32.729769Z"
    }
   },
   "outputs": [
    {
     "data": {
      "text/plain": [
       "MakeCode                         0\n",
       "FamilyCode                       0\n",
       "BodyStyleDescription             0\n",
       "DriveCode                        0\n",
       "GearTypeDescription              0\n",
       "GearLocationDescription          3\n",
       "FuelTypeDescription              0\n",
       "InductionDescription             0\n",
       "BuildCountryOriginDescription    0\n",
       "dtype: int64"
      ]
     },
     "execution_count": 82,
     "metadata": {},
     "output_type": "execute_result"
    }
   ],
   "source": [
    "df[SELECT_CAT_COLS].isna().sum()"
   ]
  },
  {
   "cell_type": "code",
   "execution_count": 83,
   "id": "72c06f97",
   "metadata": {
    "ExecuteTime": {
     "end_time": "2021-12-31T14:06:32.808830Z",
     "start_time": "2021-12-31T14:06:32.795271Z"
    }
   },
   "outputs": [],
   "source": [
    "col='GearLocationDescription'\n",
    "df[col]=df[col].fillna(df[col].mode().values[0])"
   ]
  },
  {
   "cell_type": "code",
   "execution_count": 84,
   "id": "7dd7fa04",
   "metadata": {
    "ExecuteTime": {
     "end_time": "2021-12-31T14:06:32.848333Z",
     "start_time": "2021-12-31T14:06:32.812009Z"
    },
    "scrolled": true
   },
   "outputs": [
    {
     "data": {
      "text/plain": [
       "MakeCode                         0\n",
       "FamilyCode                       0\n",
       "BodyStyleDescription             0\n",
       "DriveCode                        0\n",
       "GearTypeDescription              0\n",
       "GearLocationDescription          0\n",
       "FuelTypeDescription              0\n",
       "InductionDescription             0\n",
       "BuildCountryOriginDescription    0\n",
       "dtype: int64"
      ]
     },
     "execution_count": 84,
     "metadata": {},
     "output_type": "execute_result"
    }
   ],
   "source": [
    "df[SELECT_CAT_COLS].isna().sum()"
   ]
  },
  {
   "cell_type": "code",
   "execution_count": 85,
   "id": "eb0767b6",
   "metadata": {
    "ExecuteTime": {
     "end_time": "2021-12-31T14:06:32.864824Z",
     "start_time": "2021-12-31T14:06:32.850064Z"
    }
   },
   "outputs": [
    {
     "data": {
      "text/plain": [
       "GearNum             9\n",
       "DoorNum             0\n",
       "EngineSize          0\n",
       "Cylinders           0\n",
       "FuelCapacity      826\n",
       "NewPrice            0\n",
       "WarrantyYears    2626\n",
       "WarrantyKM       2999\n",
       "KM                  4\n",
       "dtype: int64"
      ]
     },
     "execution_count": 85,
     "metadata": {},
     "output_type": "execute_result"
    }
   ],
   "source": [
    "df[SELECT_NUM_COLS].isna().sum()"
   ]
  },
  {
   "cell_type": "code",
   "execution_count": 86,
   "id": "0b87aee2",
   "metadata": {
    "ExecuteTime": {
     "end_time": "2021-12-31T14:06:32.943834Z",
     "start_time": "2021-12-31T14:06:32.870068Z"
    }
   },
   "outputs": [
    {
     "name": "stdout",
     "output_type": "stream",
     "text": [
      "WARNING - Found 4 Null Values in : KM. Will drop rows\n",
      "INFO - Dataset contains 62183 rows, 121 columns\n"
     ]
    }
   ],
   "source": [
    "for col in ['GearNum', 'WarrantyYears', 'WarrantyKM']:\n",
    "    df[col]=df[col].fillna(df[col].mode().values[0])\n",
    "    \n",
    "df['FuelCapacity'].fillna(df['FuelCapacity'].mean(), inplace=True)\n",
    "    \n",
    "df=remove_null_rows(df, 'KM')\n",
    "df=remove_null_rows(df, 'NewPrice')"
   ]
  },
  {
   "cell_type": "code",
   "execution_count": 87,
   "id": "58b018c0",
   "metadata": {
    "ExecuteTime": {
     "end_time": "2021-12-31T14:06:32.958947Z",
     "start_time": "2021-12-31T14:06:32.945825Z"
    }
   },
   "outputs": [
    {
     "data": {
      "text/plain": [
       "GearNum          0\n",
       "DoorNum          0\n",
       "EngineSize       0\n",
       "Cylinders        0\n",
       "FuelCapacity     0\n",
       "NewPrice         0\n",
       "WarrantyYears    0\n",
       "WarrantyKM       0\n",
       "KM               0\n",
       "dtype: int64"
      ]
     },
     "execution_count": 87,
     "metadata": {},
     "output_type": "execute_result"
    }
   ],
   "source": [
    "df[SELECT_NUM_COLS].isna().sum()"
   ]
  },
  {
   "cell_type": "code",
   "execution_count": 88,
   "id": "80bdc624",
   "metadata": {
    "ExecuteTime": {
     "end_time": "2021-12-31T14:06:32.997339Z",
     "start_time": "2021-12-31T14:06:32.975969Z"
    }
   },
   "outputs": [
    {
     "data": {
      "text/plain": [
       "Sold_Date           0\n",
       "YearGroup           0\n",
       "MonthGroup          0\n",
       "Compliance_Date    60\n",
       "Age_Comp_Months    60\n",
       "dtype: int64"
      ]
     },
     "execution_count": 88,
     "metadata": {},
     "output_type": "execute_result"
    }
   ],
   "source": [
    "df[SELECT_DATE_COLS].isna().sum()"
   ]
  },
  {
   "cell_type": "code",
   "execution_count": 89,
   "id": "85913988",
   "metadata": {
    "ExecuteTime": {
     "end_time": "2021-12-31T14:06:33.073417Z",
     "start_time": "2021-12-31T14:06:33.000060Z"
    }
   },
   "outputs": [
    {
     "name": "stdout",
     "output_type": "stream",
     "text": [
      "WARNING - Found 60 Null Values in : Compliance_Date. Will drop rows\n",
      "INFO - Dataset contains 62123 rows, 121 columns\n"
     ]
    }
   ],
   "source": [
    "df=remove_null_rows(df, 'Compliance_Date')"
   ]
  },
  {
   "cell_type": "code",
   "execution_count": 90,
   "id": "96edeeda",
   "metadata": {
    "ExecuteTime": {
     "end_time": "2021-12-31T14:06:33.089217Z",
     "start_time": "2021-12-31T14:06:33.075725Z"
    }
   },
   "outputs": [
    {
     "data": {
      "text/plain": [
       "Sold_Date          0\n",
       "YearGroup          0\n",
       "MonthGroup         0\n",
       "Compliance_Date    0\n",
       "Age_Comp_Months    0\n",
       "dtype: int64"
      ]
     },
     "execution_count": 90,
     "metadata": {},
     "output_type": "execute_result"
    }
   ],
   "source": [
    "df[SELECT_DATE_COLS].isna().sum()"
   ]
  },
  {
   "cell_type": "markdown",
   "id": "fcd8fffd",
   "metadata": {},
   "source": [
    "# Date / Duration"
   ]
  },
  {
   "cell_type": "code",
   "execution_count": 91,
   "id": "f0d31d7d",
   "metadata": {
    "ExecuteTime": {
     "end_time": "2021-12-31T14:06:33.113106Z",
     "start_time": "2021-12-31T14:06:33.091735Z"
    }
   },
   "outputs": [
    {
     "name": "stdout",
     "output_type": "stream",
     "text": [
      "INFO : Age Comp Months Stats\n",
      "count    62123.000000\n",
      "mean        46.314087\n",
      "std         34.137044\n",
      "min          0.000000\n",
      "25%         26.000000\n",
      "50%         39.000000\n",
      "75%         56.000000\n",
      "max       1413.000000\n",
      "Name: Age_Comp_Months, dtype: float64\n"
     ]
    }
   ],
   "source": [
    "print('INFO : Age Comp Months Stats')\n",
    "print(df['Age_Comp_Months'].describe())"
   ]
  },
  {
   "cell_type": "code",
   "execution_count": 92,
   "id": "eb68e6c8",
   "metadata": {
    "ExecuteTime": {
     "end_time": "2021-12-31T14:06:33.134273Z",
     "start_time": "2021-12-31T14:06:33.123016Z"
    }
   },
   "outputs": [
    {
     "name": "stdout",
     "output_type": "stream",
     "text": [
      "INFO : Check Age_Comp_Months = 0\n",
      "      Compliance_Date                Sold_Date  Age_Comp_Months\n",
      "40053         06/2015  2015-06-24 00:00:00.000              0.0\n",
      "51179         08/2017  2017-08-24 00:00:00.000              0.0\n",
      "55708         06/2015  2015-06-15 00:00:00.000              0.0\n",
      "55820         06/2015  2015-06-29 00:00:00.000              0.0\n",
      "INFO : Seems like sold within 1 Month. Will use Age Days for better resolution\n"
     ]
    }
   ],
   "source": [
    "print('INFO : Check Age_Comp_Months = 0')\n",
    "print(df[df['Age_Comp_Months']==0][['Compliance_Date','Sold_Date','Age_Comp_Months']])\n",
    "print('INFO : Seems like sold within 1 Month. Will use Age Days for better resolution')"
   ]
  },
  {
   "cell_type": "code",
   "execution_count": 93,
   "id": "e73eaff4",
   "metadata": {
    "ExecuteTime": {
     "end_time": "2021-12-31T14:06:33.212222Z",
     "start_time": "2021-12-31T14:06:33.142929Z"
    }
   },
   "outputs": [],
   "source": [
    "df['Sold_Date']=pd.to_datetime(df['Sold_Date'])\n",
    "df['Compliance_Date']=pd.to_datetime(df['Compliance_Date'])"
   ]
  },
  {
   "cell_type": "code",
   "execution_count": 94,
   "id": "89998c3a",
   "metadata": {
    "ExecuteTime": {
     "end_time": "2021-12-31T14:06:33.227744Z",
     "start_time": "2021-12-31T14:06:33.214697Z"
    },
    "scrolled": true
   },
   "outputs": [
    {
     "name": "stdout",
     "output_type": "stream",
     "text": [
      "INFO - Derived AgeDays feature\n"
     ]
    },
    {
     "data": {
      "text/plain": [
       "0       2832 days\n",
       "1       2635 days\n",
       "2        492 days\n",
       "3       1470 days\n",
       "4        873 days\n",
       "           ...   \n",
       "62182   1317 days\n",
       "62183   1699 days\n",
       "62184   1188 days\n",
       "62185   1301 days\n",
       "62186   2044 days\n",
       "Name: AgeDays, Length: 62123, dtype: timedelta64[ns]"
      ]
     },
     "execution_count": 94,
     "metadata": {},
     "output_type": "execute_result"
    }
   ],
   "source": [
    "df['AgeDays']=df['Sold_Date']-df['Compliance_Date']\n",
    "print('INFO - Derived AgeDays feature')\n",
    "df['AgeDays']\n",
    "# df['YearGroup'].value_counts()"
   ]
  },
  {
   "cell_type": "code",
   "execution_count": 95,
   "id": "7f9aa756",
   "metadata": {
    "ExecuteTime": {
     "end_time": "2021-12-31T14:06:33.240080Z",
     "start_time": "2021-12-31T14:06:33.230132Z"
    }
   },
   "outputs": [
    {
     "name": "stdout",
     "output_type": "stream",
     "text": [
      "INFO : Check Age_Comp_Months > 1000\n",
      "      Compliance_Date  Sold_Date  Age_Comp_Months\n",
      "4710       1900-01-01 2016-11-22           1402.0\n",
      "43604      1900-01-01 2017-10-24           1413.0\n",
      "43762      1900-01-01 2006-08-08           1279.0\n",
      "50561      1900-01-01 2017-01-27           1404.0\n",
      "53307      1900-01-01 2016-09-22           1400.0\n"
     ]
    }
   ],
   "source": [
    "print('INFO : Check Age_Comp_Months > 1000')\n",
    "print(df[df['Age_Comp_Months']>1000][['Compliance_Date','Sold_Date','Age_Comp_Months']])"
   ]
  },
  {
   "cell_type": "code",
   "execution_count": 96,
   "id": "b7d2a408",
   "metadata": {
    "ExecuteTime": {
     "end_time": "2021-12-31T14:06:33.310529Z",
     "start_time": "2021-12-31T14:06:33.246812Z"
    }
   },
   "outputs": [
    {
     "name": "stdout",
     "output_type": "stream",
     "text": [
      "INFO : Remove 5 Rows with Compliance_Date==1900-01-01\n"
     ]
    }
   ],
   "source": [
    "bad_comp_date = df['Compliance_Date']=='1900-01-01'\n",
    "print(f'INFO : Remove {sum(bad_comp_date)} Rows with Compliance_Date==1900-01-01')\n",
    "df=df[~bad_comp_date]"
   ]
  },
  {
   "cell_type": "markdown",
   "id": "1defafdc",
   "metadata": {},
   "source": [
    "# Feature Engineering - ValidWarranty"
   ]
  },
  {
   "cell_type": "code",
   "execution_count": 97,
   "id": "e327d3a5",
   "metadata": {
    "ExecuteTime": {
     "end_time": "2021-12-31T14:06:33.323434Z",
     "start_time": "2021-12-31T14:06:33.312941Z"
    }
   },
   "outputs": [],
   "source": [
    "df['WarrantyDays']=pd.to_timedelta(df['WarrantyYears']*365, unit='D')"
   ]
  },
  {
   "cell_type": "code",
   "execution_count": 98,
   "id": "283e1370",
   "metadata": {
    "ExecuteTime": {
     "end_time": "2021-12-31T14:06:33.333391Z",
     "start_time": "2021-12-31T14:06:33.327732Z"
    }
   },
   "outputs": [],
   "source": [
    "df['ValidWarranty'] = ( df['AgeDays'] < df['WarrantyDays'] ) & ( df['KM'] < df['WarrantyKM'] )"
   ]
  },
  {
   "cell_type": "code",
   "execution_count": 99,
   "id": "e9f7ede9",
   "metadata": {
    "ExecuteTime": {
     "end_time": "2021-12-31T14:06:33.342433Z",
     "start_time": "2021-12-31T14:06:33.335494Z"
    }
   },
   "outputs": [
    {
     "name": "stdout",
     "output_type": "stream",
     "text": [
      "INFO - 22913 / 62118 Vehicles Under Warranty (Feature Eng)\n"
     ]
    }
   ],
   "source": [
    "print(f\"INFO - {df['ValidWarranty'].sum()} / {df.shape[0]} Vehicles Under Warranty (Feature Eng)\")"
   ]
  },
  {
   "cell_type": "code",
   "execution_count": 100,
   "id": "8286f88a",
   "metadata": {
    "ExecuteTime": {
     "end_time": "2021-12-31T14:06:33.353705Z",
     "start_time": "2021-12-31T14:06:33.345546Z"
    }
   },
   "outputs": [],
   "source": [
    "#Change AgeDays from Timedelta to Int\n",
    "df['AgeDays']=df['AgeDays'].dt.days"
   ]
  },
  {
   "cell_type": "markdown",
   "id": "6c342693",
   "metadata": {},
   "source": [
    "# Category Remap"
   ]
  },
  {
   "cell_type": "code",
   "execution_count": 101,
   "id": "90bd5632",
   "metadata": {
    "ExecuteTime": {
     "end_time": "2021-12-31T14:06:33.377661Z",
     "start_time": "2021-12-31T14:06:33.359085Z"
    }
   },
   "outputs": [
    {
     "data": {
      "text/plain": [
       "Petrol - Unleaded ULP    44804\n",
       "Diesel                   12538\n",
       "Petrol - Premium ULP      3072\n",
       "LPG only                  1380\n",
       "Petrol or LPG (Dual)       202\n",
       "Petrol                     122\n",
       "Name: FuelTypeDescription, dtype: int64"
      ]
     },
     "execution_count": 101,
     "metadata": {},
     "output_type": "execute_result"
    }
   ],
   "source": [
    "df['FuelTypeDescription'].value_counts()"
   ]
  },
  {
   "cell_type": "code",
   "execution_count": 102,
   "id": "0e05242c",
   "metadata": {
    "ExecuteTime": {
     "end_time": "2021-12-31T14:06:33.388381Z",
     "start_time": "2021-12-31T14:06:33.381333Z"
    }
   },
   "outputs": [],
   "source": [
    "gear_type_map={\n",
    "    'Automatic':'Automatic',\n",
    "    'Sports Automatic': 'Sports Automatic',\n",
    "    'Manual' : 'Manual',\n",
    "    'Constantly Variable Transmission' : 'Constantly Variable Transmission',\n",
    "    'Sports Automatic Dual Clutch' : 'Sports Automatic',\n",
    "    'Sports Automatic Single Clutch' : 'Sports Automatic',\n",
    "    'Seq. Manual Auto-Single Clutch' : 'Manual',\n",
    "    'Manual Auto-clutch - H Pattern' : 'Manual',\n",
    "}\n",
    "\n",
    "induction_map={\n",
    "    'Aspirated':'Aspirated',\n",
    "    'Turbo Intercooled' :'Turbo',                 \n",
    "    'Turbo' :'Turbo',                              \n",
    "    'Twin Turbo Intercooled' : 'Turbo',              \n",
    "    'Supercharged' : 'Supercharged',                       \n",
    "    'Supercharged Intercooled' : 'Supercharged',            \n",
    "    'Turbo Supercharged Intercooled' : 'Turbo Supercharged',     \n",
    "}\n",
    "fuel_type_map={\n",
    "    'Petrol - Unleaded ULP' :'Petrol',\n",
    "    'Diesel' : 'Diesel',\n",
    "    'Petrol - Premium ULP' :'Petrol',\n",
    "    'LPG only' : 'LPG',\n",
    "    'Petrol or LPG (Dual)' : 'Petrol or LPG',\n",
    "    'Petrol': 'Petrol',\n",
    "}"
   ]
  },
  {
   "cell_type": "code",
   "execution_count": 103,
   "id": "d3a9e67d",
   "metadata": {
    "ExecuteTime": {
     "end_time": "2021-12-31T14:06:33.433054Z",
     "start_time": "2021-12-31T14:06:33.393199Z"
    }
   },
   "outputs": [],
   "source": [
    "df['GearTypeDescription'] = df['GearTypeDescription'].apply(lambda x: gear_type_map[x])\n",
    "df['InductionDescription'] = df['InductionDescription'].apply(lambda x: induction_map[x])\n",
    "df['FuelTypeDescription'] = df['FuelTypeDescription'].apply(lambda x: fuel_type_map[x])"
   ]
  },
  {
   "cell_type": "code",
   "execution_count": 104,
   "id": "2bd5ee7c",
   "metadata": {
    "ExecuteTime": {
     "end_time": "2021-12-31T14:06:33.446599Z",
     "start_time": "2021-12-31T14:06:33.443445Z"
    }
   },
   "outputs": [],
   "source": [
    "SELECT_CAT_COLS = [\n",
    "    'MakeCode', 'FamilyCode', 'BodyStyleDescription', 'DriveCode', 'GearTypeDescription',\n",
    "    'GearLocationDescription', 'FuelTypeDescription', 'InductionDescription', 'ValidWarranty',\n",
    "    'BuildCountryOriginDescription'\n",
    "]\n",
    "SELECT_NUM_COLS = [\n",
    "    'GearNum', 'DoorNum', 'EngineSize', 'Cylinders', 'FuelCapacity', 'NewPrice','KM',\n",
    "]\n",
    "SELECT_TIMEDELTA_COLS = ['AgeDays']\n",
    "SELECT_TARGET_COL = ['Sold_Amount']"
   ]
  },
  {
   "cell_type": "code",
   "execution_count": 105,
   "id": "e7271f87",
   "metadata": {
    "ExecuteTime": {
     "end_time": "2021-12-31T14:06:33.496932Z",
     "start_time": "2021-12-31T14:06:33.448745Z"
    }
   },
   "outputs": [
    {
     "data": {
      "text/html": [
       "<div>\n",
       "<style scoped>\n",
       "    .dataframe tbody tr th:only-of-type {\n",
       "        vertical-align: middle;\n",
       "    }\n",
       "\n",
       "    .dataframe tbody tr th {\n",
       "        vertical-align: top;\n",
       "    }\n",
       "\n",
       "    .dataframe thead th {\n",
       "        text-align: right;\n",
       "    }\n",
       "</style>\n",
       "<table border=\"1\" class=\"dataframe\">\n",
       "  <thead>\n",
       "    <tr style=\"text-align: right;\">\n",
       "      <th></th>\n",
       "      <th>MakeCode</th>\n",
       "      <th>FamilyCode</th>\n",
       "      <th>BodyStyleDescription</th>\n",
       "      <th>DriveCode</th>\n",
       "      <th>GearTypeDescription</th>\n",
       "      <th>GearLocationDescription</th>\n",
       "      <th>FuelTypeDescription</th>\n",
       "      <th>InductionDescription</th>\n",
       "      <th>ValidWarranty</th>\n",
       "      <th>BuildCountryOriginDescription</th>\n",
       "      <th>GearNum</th>\n",
       "      <th>DoorNum</th>\n",
       "      <th>EngineSize</th>\n",
       "      <th>Cylinders</th>\n",
       "      <th>FuelCapacity</th>\n",
       "      <th>NewPrice</th>\n",
       "      <th>KM</th>\n",
       "      <th>AgeDays</th>\n",
       "      <th>Sold_Amount</th>\n",
       "    </tr>\n",
       "  </thead>\n",
       "  <tbody>\n",
       "    <tr>\n",
       "      <th>0</th>\n",
       "      <td>HOLD</td>\n",
       "      <td>COMMODO</td>\n",
       "      <td>Sedan</td>\n",
       "      <td>RWD</td>\n",
       "      <td>Automatic</td>\n",
       "      <td>Floor</td>\n",
       "      <td>Petrol</td>\n",
       "      <td>Aspirated</td>\n",
       "      <td>False</td>\n",
       "      <td>AUSTRALIA</td>\n",
       "      <td>4.0</td>\n",
       "      <td>4</td>\n",
       "      <td>3565</td>\n",
       "      <td>6</td>\n",
       "      <td>73.0</td>\n",
       "      <td>34790.0</td>\n",
       "      <td>227878.0</td>\n",
       "      <td>2832</td>\n",
       "      <td>2000.0</td>\n",
       "    </tr>\n",
       "    <tr>\n",
       "      <th>1</th>\n",
       "      <td>HOLD</td>\n",
       "      <td>COMMODO</td>\n",
       "      <td>Wagon</td>\n",
       "      <td>RWD</td>\n",
       "      <td>Automatic</td>\n",
       "      <td>Floor</td>\n",
       "      <td>Petrol</td>\n",
       "      <td>Aspirated</td>\n",
       "      <td>False</td>\n",
       "      <td>AUSTRALIA</td>\n",
       "      <td>4.0</td>\n",
       "      <td>5</td>\n",
       "      <td>3791</td>\n",
       "      <td>6</td>\n",
       "      <td>68.0</td>\n",
       "      <td>27978.0</td>\n",
       "      <td>153091.0</td>\n",
       "      <td>2635</td>\n",
       "      <td>6800.0</td>\n",
       "    </tr>\n",
       "    <tr>\n",
       "      <th>2</th>\n",
       "      <td>TOYO</td>\n",
       "      <td>RAV4</td>\n",
       "      <td>Wagon</td>\n",
       "      <td>4XO</td>\n",
       "      <td>Manual</td>\n",
       "      <td>Floor</td>\n",
       "      <td>Petrol</td>\n",
       "      <td>Aspirated</td>\n",
       "      <td>True</td>\n",
       "      <td>JAPAN</td>\n",
       "      <td>5.0</td>\n",
       "      <td>5</td>\n",
       "      <td>2362</td>\n",
       "      <td>4</td>\n",
       "      <td>60.0</td>\n",
       "      <td>31990.0</td>\n",
       "      <td>27374.0</td>\n",
       "      <td>492</td>\n",
       "      <td>22900.0</td>\n",
       "    </tr>\n",
       "    <tr>\n",
       "      <th>3</th>\n",
       "      <td>HOLD</td>\n",
       "      <td>COMMODO</td>\n",
       "      <td>Wagon</td>\n",
       "      <td>RWD</td>\n",
       "      <td>Automatic</td>\n",
       "      <td>Floor</td>\n",
       "      <td>Petrol</td>\n",
       "      <td>Aspirated</td>\n",
       "      <td>False</td>\n",
       "      <td>AUSTRALIA</td>\n",
       "      <td>4.0</td>\n",
       "      <td>5</td>\n",
       "      <td>3565</td>\n",
       "      <td>6</td>\n",
       "      <td>75.0</td>\n",
       "      <td>35990.0</td>\n",
       "      <td>99452.0</td>\n",
       "      <td>1470</td>\n",
       "      <td>10500.0</td>\n",
       "    </tr>\n",
       "    <tr>\n",
       "      <th>4</th>\n",
       "      <td>TOYO</td>\n",
       "      <td>TARAGO</td>\n",
       "      <td>Wagon</td>\n",
       "      <td>FWD</td>\n",
       "      <td>Sports Automatic</td>\n",
       "      <td>Dash</td>\n",
       "      <td>Petrol</td>\n",
       "      <td>Aspirated</td>\n",
       "      <td>True</td>\n",
       "      <td>JAPAN</td>\n",
       "      <td>4.0</td>\n",
       "      <td>5</td>\n",
       "      <td>2362</td>\n",
       "      <td>4</td>\n",
       "      <td>65.0</td>\n",
       "      <td>49490.0</td>\n",
       "      <td>44355.0</td>\n",
       "      <td>873</td>\n",
       "      <td>31320.0</td>\n",
       "    </tr>\n",
       "    <tr>\n",
       "      <th>...</th>\n",
       "      <td>...</td>\n",
       "      <td>...</td>\n",
       "      <td>...</td>\n",
       "      <td>...</td>\n",
       "      <td>...</td>\n",
       "      <td>...</td>\n",
       "      <td>...</td>\n",
       "      <td>...</td>\n",
       "      <td>...</td>\n",
       "      <td>...</td>\n",
       "      <td>...</td>\n",
       "      <td>...</td>\n",
       "      <td>...</td>\n",
       "      <td>...</td>\n",
       "      <td>...</td>\n",
       "      <td>...</td>\n",
       "      <td>...</td>\n",
       "      <td>...</td>\n",
       "      <td>...</td>\n",
       "    </tr>\n",
       "    <tr>\n",
       "      <th>62182</th>\n",
       "      <td>FORD</td>\n",
       "      <td>RANGER</td>\n",
       "      <td>Cab Chassis</td>\n",
       "      <td>4XD</td>\n",
       "      <td>Manual</td>\n",
       "      <td>Floor</td>\n",
       "      <td>Diesel</td>\n",
       "      <td>Turbo</td>\n",
       "      <td>False</td>\n",
       "      <td>THAILAND</td>\n",
       "      <td>6.0</td>\n",
       "      <td>4</td>\n",
       "      <td>3198</td>\n",
       "      <td>5</td>\n",
       "      <td>80.0</td>\n",
       "      <td>45390.0</td>\n",
       "      <td>153768.0</td>\n",
       "      <td>1317</td>\n",
       "      <td>16500.0</td>\n",
       "    </tr>\n",
       "    <tr>\n",
       "      <th>62183</th>\n",
       "      <td>FORD</td>\n",
       "      <td>FALCON</td>\n",
       "      <td>Sedan</td>\n",
       "      <td>RWD</td>\n",
       "      <td>Sports Automatic</td>\n",
       "      <td>Floor</td>\n",
       "      <td>Petrol</td>\n",
       "      <td>Aspirated</td>\n",
       "      <td>False</td>\n",
       "      <td>AUSTRALIA</td>\n",
       "      <td>4.0</td>\n",
       "      <td>4</td>\n",
       "      <td>3984</td>\n",
       "      <td>6</td>\n",
       "      <td>68.0</td>\n",
       "      <td>34660.0</td>\n",
       "      <td>88088.0</td>\n",
       "      <td>1699</td>\n",
       "      <td>8600.0</td>\n",
       "    </tr>\n",
       "    <tr>\n",
       "      <th>62184</th>\n",
       "      <td>FORD</td>\n",
       "      <td>FALCON</td>\n",
       "      <td>Sedan</td>\n",
       "      <td>RWD</td>\n",
       "      <td>Automatic</td>\n",
       "      <td>Floor</td>\n",
       "      <td>Petrol</td>\n",
       "      <td>Aspirated</td>\n",
       "      <td>False</td>\n",
       "      <td>AUSTRALIA</td>\n",
       "      <td>4.0</td>\n",
       "      <td>4</td>\n",
       "      <td>3984</td>\n",
       "      <td>6</td>\n",
       "      <td>68.0</td>\n",
       "      <td>35740.0</td>\n",
       "      <td>113302.0</td>\n",
       "      <td>1188</td>\n",
       "      <td>12600.0</td>\n",
       "    </tr>\n",
       "    <tr>\n",
       "      <th>62185</th>\n",
       "      <td>MITS</td>\n",
       "      <td>LANCER</td>\n",
       "      <td>Sedan</td>\n",
       "      <td>FWD</td>\n",
       "      <td>Constantly Variable Transmission</td>\n",
       "      <td>Floor</td>\n",
       "      <td>Petrol</td>\n",
       "      <td>Aspirated</td>\n",
       "      <td>True</td>\n",
       "      <td>JAPAN</td>\n",
       "      <td>6.0</td>\n",
       "      <td>4</td>\n",
       "      <td>1998</td>\n",
       "      <td>4</td>\n",
       "      <td>59.0</td>\n",
       "      <td>24190.0</td>\n",
       "      <td>60223.0</td>\n",
       "      <td>1301</td>\n",
       "      <td>10250.0</td>\n",
       "    </tr>\n",
       "    <tr>\n",
       "      <th>62186</th>\n",
       "      <td>HOLD</td>\n",
       "      <td>CAPTIVA</td>\n",
       "      <td>Wagon</td>\n",
       "      <td>FWD</td>\n",
       "      <td>Sports Automatic</td>\n",
       "      <td>Floor</td>\n",
       "      <td>Diesel</td>\n",
       "      <td>Turbo</td>\n",
       "      <td>False</td>\n",
       "      <td>SOUTH KOREA</td>\n",
       "      <td>6.0</td>\n",
       "      <td>5</td>\n",
       "      <td>2231</td>\n",
       "      <td>4</td>\n",
       "      <td>65.0</td>\n",
       "      <td>35490.0</td>\n",
       "      <td>82815.0</td>\n",
       "      <td>2044</td>\n",
       "      <td>9600.0</td>\n",
       "    </tr>\n",
       "  </tbody>\n",
       "</table>\n",
       "<p>62118 rows × 19 columns</p>\n",
       "</div>"
      ],
      "text/plain": [
       "      MakeCode FamilyCode BodyStyleDescription DriveCode  \\\n",
       "0         HOLD    COMMODO                Sedan       RWD   \n",
       "1         HOLD    COMMODO                Wagon       RWD   \n",
       "2         TOYO       RAV4                Wagon       4XO   \n",
       "3         HOLD    COMMODO                Wagon       RWD   \n",
       "4         TOYO     TARAGO                Wagon       FWD   \n",
       "...        ...        ...                  ...       ...   \n",
       "62182     FORD     RANGER          Cab Chassis       4XD   \n",
       "62183     FORD     FALCON                Sedan       RWD   \n",
       "62184     FORD     FALCON                Sedan       RWD   \n",
       "62185     MITS     LANCER                Sedan       FWD   \n",
       "62186     HOLD    CAPTIVA                Wagon       FWD   \n",
       "\n",
       "                    GearTypeDescription GearLocationDescription  \\\n",
       "0                             Automatic                   Floor   \n",
       "1                             Automatic                   Floor   \n",
       "2                                Manual                   Floor   \n",
       "3                             Automatic                   Floor   \n",
       "4                      Sports Automatic                    Dash   \n",
       "...                                 ...                     ...   \n",
       "62182                            Manual                   Floor   \n",
       "62183                  Sports Automatic                   Floor   \n",
       "62184                         Automatic                   Floor   \n",
       "62185  Constantly Variable Transmission                   Floor   \n",
       "62186                  Sports Automatic                   Floor   \n",
       "\n",
       "      FuelTypeDescription InductionDescription  ValidWarranty  \\\n",
       "0                  Petrol            Aspirated          False   \n",
       "1                  Petrol            Aspirated          False   \n",
       "2                  Petrol            Aspirated           True   \n",
       "3                  Petrol            Aspirated          False   \n",
       "4                  Petrol            Aspirated           True   \n",
       "...                   ...                  ...            ...   \n",
       "62182              Diesel                Turbo          False   \n",
       "62183              Petrol            Aspirated          False   \n",
       "62184              Petrol            Aspirated          False   \n",
       "62185              Petrol            Aspirated           True   \n",
       "62186              Diesel                Turbo          False   \n",
       "\n",
       "      BuildCountryOriginDescription  GearNum  DoorNum  EngineSize  Cylinders  \\\n",
       "0                         AUSTRALIA      4.0        4        3565          6   \n",
       "1                         AUSTRALIA      4.0        5        3791          6   \n",
       "2                             JAPAN      5.0        5        2362          4   \n",
       "3                         AUSTRALIA      4.0        5        3565          6   \n",
       "4                             JAPAN      4.0        5        2362          4   \n",
       "...                             ...      ...      ...         ...        ...   \n",
       "62182                      THAILAND      6.0        4        3198          5   \n",
       "62183                     AUSTRALIA      4.0        4        3984          6   \n",
       "62184                     AUSTRALIA      4.0        4        3984          6   \n",
       "62185                         JAPAN      6.0        4        1998          4   \n",
       "62186                   SOUTH KOREA      6.0        5        2231          4   \n",
       "\n",
       "       FuelCapacity  NewPrice        KM  AgeDays  Sold_Amount  \n",
       "0              73.0   34790.0  227878.0     2832       2000.0  \n",
       "1              68.0   27978.0  153091.0     2635       6800.0  \n",
       "2              60.0   31990.0   27374.0      492      22900.0  \n",
       "3              75.0   35990.0   99452.0     1470      10500.0  \n",
       "4              65.0   49490.0   44355.0      873      31320.0  \n",
       "...             ...       ...       ...      ...          ...  \n",
       "62182          80.0   45390.0  153768.0     1317      16500.0  \n",
       "62183          68.0   34660.0   88088.0     1699       8600.0  \n",
       "62184          68.0   35740.0  113302.0     1188      12600.0  \n",
       "62185          59.0   24190.0   60223.0     1301      10250.0  \n",
       "62186          65.0   35490.0   82815.0     2044       9600.0  \n",
       "\n",
       "[62118 rows x 19 columns]"
      ]
     },
     "execution_count": 105,
     "metadata": {},
     "output_type": "execute_result"
    }
   ],
   "source": [
    "df=df[SELECT_CAT_COLS + SELECT_NUM_COLS + SELECT_TIMEDELTA_COLS + SELECT_TARGET_COL]\n",
    "df"
   ]
  },
  {
   "cell_type": "code",
   "execution_count": 106,
   "id": "1f628162",
   "metadata": {
    "ExecuteTime": {
     "end_time": "2021-12-31T14:06:33.533355Z",
     "start_time": "2021-12-31T14:06:33.499570Z"
    }
   },
   "outputs": [
    {
     "data": {
      "text/plain": [
       "MakeCode                         0\n",
       "FamilyCode                       0\n",
       "BodyStyleDescription             0\n",
       "DriveCode                        0\n",
       "GearTypeDescription              0\n",
       "GearLocationDescription          0\n",
       "FuelTypeDescription              0\n",
       "InductionDescription             0\n",
       "ValidWarranty                    0\n",
       "BuildCountryOriginDescription    0\n",
       "GearNum                          0\n",
       "DoorNum                          0\n",
       "EngineSize                       0\n",
       "Cylinders                        0\n",
       "FuelCapacity                     0\n",
       "NewPrice                         0\n",
       "KM                               0\n",
       "AgeDays                          0\n",
       "Sold_Amount                      0\n",
       "dtype: int64"
      ]
     },
     "execution_count": 106,
     "metadata": {},
     "output_type": "execute_result"
    }
   ],
   "source": [
    "df.isna().sum()"
   ]
  },
  {
   "cell_type": "code",
   "execution_count": 107,
   "id": "82a1d809",
   "metadata": {
    "ExecuteTime": {
     "end_time": "2021-12-31T14:06:33.986665Z",
     "start_time": "2021-12-31T14:06:33.535551Z"
    }
   },
   "outputs": [],
   "source": [
    "df.to_csv('../datasets/dataset_2.csv', index=None)"
   ]
  },
  {
   "cell_type": "markdown",
   "id": "450d9a36",
   "metadata": {},
   "source": [
    "# Categorical Label Encoding"
   ]
  },
  {
   "cell_type": "code",
   "execution_count": 108,
   "id": "ef6b88e2",
   "metadata": {
    "ExecuteTime": {
     "end_time": "2021-12-31T14:06:34.138855Z",
     "start_time": "2021-12-31T14:06:33.989270Z"
    }
   },
   "outputs": [],
   "source": [
    "df=pd.read_csv('../datasets/dataset_2.csv')"
   ]
  },
  {
   "cell_type": "code",
   "execution_count": 110,
   "id": "cd48a8b0",
   "metadata": {
    "ExecuteTime": {
     "end_time": "2021-12-31T14:06:35.768408Z",
     "start_time": "2021-12-31T14:06:34.285668Z"
    }
   },
   "outputs": [
    {
     "name": "stdout",
     "output_type": "stream",
     "text": [
      "MakeCode\n",
      "FamilyCode\n",
      "BodyStyleDescription\n",
      "DriveCode\n",
      "GearTypeDescription\n",
      "GearLocationDescription\n",
      "FuelTypeDescription\n",
      "InductionDescription\n",
      "ValidWarranty\n",
      "BuildCountryOriginDescription\n"
     ]
    }
   ],
   "source": [
    "for col in SELECT_CAT_COLS:\n",
    "    print(col)\n",
    "    df_ = pd.get_dummies(df[col], prefix=col)\n",
    "    df = pd.concat([df,df_], axis=1)\n",
    "    df.drop(col, axis=1, inplace=True)"
   ]
  },
  {
   "cell_type": "markdown",
   "id": "43769d43",
   "metadata": {},
   "source": [
    "# Apply np.log(x+1) for Sold_Amount & NewPrice"
   ]
  },
  {
   "cell_type": "code",
   "execution_count": 109,
   "id": "00f15a7b",
   "metadata": {
    "ExecuteTime": {
     "end_time": "2021-12-31T14:06:34.283887Z",
     "start_time": "2021-12-31T14:06:34.141212Z"
    }
   },
   "outputs": [],
   "source": [
    "df['Sold_Amount'] = df['Sold_Amount'].apply(lambda x: np.log(x+1))\n",
    "df['NewPrice'] = df['NewPrice'].apply(lambda x: np.log(x+1))"
   ]
  },
  {
   "cell_type": "code",
   "execution_count": 111,
   "id": "647150d6",
   "metadata": {
    "ExecuteTime": {
     "end_time": "2021-12-31T14:06:35.783060Z",
     "start_time": "2021-12-31T14:06:35.770599Z"
    }
   },
   "outputs": [
    {
     "data": {
      "text/plain": [
       "(62118, 788)"
      ]
     },
     "execution_count": 111,
     "metadata": {},
     "output_type": "execute_result"
    }
   ],
   "source": [
    "df.shape"
   ]
  },
  {
   "cell_type": "markdown",
   "id": "9eaafc26",
   "metadata": {},
   "source": [
    "# Train Test Split"
   ]
  },
  {
   "cell_type": "code",
   "execution_count": 114,
   "id": "b3585cc0",
   "metadata": {
    "ExecuteTime": {
     "end_time": "2021-12-31T14:09:50.590886Z",
     "start_time": "2021-12-31T14:09:50.267155Z"
    }
   },
   "outputs": [
    {
     "name": "stdout",
     "output_type": "stream",
     "text": [
      "INFO - Size Train 52800\n",
      "INFO - Size Test 9318\n"
     ]
    }
   ],
   "source": [
    "from sklearn.model_selection import train_test_split\n",
    "\n",
    "df_train, df_test = train_test_split(df, test_size=0.15, random_state=42)\n",
    "print(f'INFO - Size Train {len(df_train)}')\n",
    "print(f'INFO - Size Test {len(df_test)}')"
   ]
  },
  {
   "cell_type": "code",
   "execution_count": 113,
   "id": "eefb80e5",
   "metadata": {
    "ExecuteTime": {
     "end_time": "2021-12-31T14:06:43.667196Z",
     "start_time": "2021-12-31T14:06:36.068059Z"
    }
   },
   "outputs": [],
   "source": [
    "print('INFO - Save Train & Test sets')\n",
    "df_train.to_csv('../datasets/df_train.csv', index=None)\n",
    "df_test.to_csv('../datasets/df_test.csv', index=None)"
   ]
  }
 ],
 "metadata": {
  "kernelspec": {
   "display_name": "Python 3 (ipykernel)",
   "language": "python",
   "name": "python3"
  },
  "language_info": {
   "codemirror_mode": {
    "name": "ipython",
    "version": 3
   },
   "file_extension": ".py",
   "mimetype": "text/x-python",
   "name": "python",
   "nbconvert_exporter": "python",
   "pygments_lexer": "ipython3",
   "version": "3.7.3"
  }
 },
 "nbformat": 4,
 "nbformat_minor": 5
}
